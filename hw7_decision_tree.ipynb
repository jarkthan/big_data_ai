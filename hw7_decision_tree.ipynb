{
 "cells": [
  {
   "cell_type": "code",
   "execution_count": 1,
   "metadata": {},
   "outputs": [],
   "source": [
    "%matplotlib inline\n",
    "import numpy as np\n",
    "import pandas as pd\n",
    "from sklearn import datasets\n",
    "from sklearn.preprocessing import OneHotEncoder\n",
    "from sklearn.model_selection import train_test_split,StratifiedKFold,GridSearchCV\n",
    "from sklearn.tree import DecisionTreeClassifier,export_text,plot_tree\n",
    "from sklearn import metrics\n",
    "from yellowbrick.classifier import ROCAUC\n",
    "from yellowbrick.model_selection import ValidationCurve\n",
    "import matplotlib.pyplot as plt\n",
    "import seaborn as sns"
   ]
  },
  {
   "cell_type": "code",
   "execution_count": 2,
   "metadata": {},
   "outputs": [
    {
     "name": "stdout",
     "output_type": "stream",
     "text": [
      "       director_name  num_critic_for_reviews  duration  \\\n",
      "0      James Cameron                   723.0     178.0   \n",
      "1     Gore Verbinski                   302.0     169.0   \n",
      "2         Sam Mendes                   602.0     148.0   \n",
      "3  Christopher Nolan                   813.0     164.0   \n",
      "4        Doug Walker                     NaN       NaN   \n",
      "\n",
      "   director_facebook_likes  actor_3_facebook_likes      actor_2_name  \\\n",
      "0                      0.0                   855.0  Joel David Moore   \n",
      "1                    563.0                  1000.0     Orlando Bloom   \n",
      "2                      0.0                   161.0      Rory Kinnear   \n",
      "3                  22000.0                 23000.0    Christian Bale   \n",
      "4                    131.0                     NaN        Rob Walker   \n",
      "\n",
      "   actor_1_facebook_likes        gross                           genres  \\\n",
      "0                  1000.0  760505847.0  Action|Adventure|Fantasy|Sci-Fi   \n",
      "1                 40000.0  309404152.0         Action|Adventure|Fantasy   \n",
      "2                 11000.0  200074175.0        Action|Adventure|Thriller   \n",
      "3                 27000.0  448130642.0                  Action|Thriller   \n",
      "4                   131.0          NaN                      Documentary   \n",
      "\n",
      "      actor_1_name  ... num_user_for_reviews  language  country  \\\n",
      "0      CCH Pounder  ...               3054.0   English      USA   \n",
      "1      Johnny Depp  ...               1238.0   English      USA   \n",
      "2  Christoph Waltz  ...                994.0   English       UK   \n",
      "3        Tom Hardy  ...               2701.0   English      USA   \n",
      "4      Doug Walker  ...                  NaN       NaN      NaN   \n",
      "\n",
      "  content_rating       budget title_year actor_2_facebook_likes  imdb_score  \\\n",
      "0          PG-13  237000000.0     2009.0                  936.0         7.9   \n",
      "1          PG-13  300000000.0     2007.0                 5000.0         7.1   \n",
      "2          PG-13  245000000.0     2015.0                  393.0         6.8   \n",
      "3          PG-13  250000000.0     2012.0                23000.0         8.5   \n",
      "4            NaN          NaN        NaN                   12.0         7.1   \n",
      "\n",
      "  aspect_ratio movie_facebook_likes  \n",
      "0         1.78                33000  \n",
      "1         2.35                    0  \n",
      "2         2.35                85000  \n",
      "3         2.35               164000  \n",
      "4          NaN                    0  \n",
      "\n",
      "[5 rows x 27 columns]\n"
     ]
    }
   ],
   "source": [
    "# Load the IMDB dataset\n",
    "df = pd.read_csv('/Users/jarkrunglerdkriangkrai/ISE/Year 4/Semester 2/Big Data/new_github/big_data_ai/imdp.csv',encoding='latin-1')\n",
    "\n",
    "# Display the first five rows of the dataset\n",
    "print(df.head())\n"
   ]
  },
  {
   "cell_type": "code",
   "execution_count": 3,
   "metadata": {},
   "outputs": [
    {
     "name": "stdout",
     "output_type": "stream",
     "text": [
      "<class 'pandas.core.frame.DataFrame'>\n",
      "RangeIndex: 5043 entries, 0 to 5042\n",
      "Data columns (total 27 columns):\n",
      " #   Column                     Non-Null Count  Dtype  \n",
      "---  ------                     --------------  -----  \n",
      " 0   director_name              4939 non-null   object \n",
      " 1   num_critic_for_reviews     4993 non-null   float64\n",
      " 2   duration                   5028 non-null   float64\n",
      " 3   director_facebook_likes    4939 non-null   float64\n",
      " 4   actor_3_facebook_likes     5020 non-null   float64\n",
      " 5   actor_2_name               5030 non-null   object \n",
      " 6   actor_1_facebook_likes     5036 non-null   float64\n",
      " 7   gross                      4159 non-null   float64\n",
      " 8   genres                     5043 non-null   object \n",
      " 9   actor_1_name               5036 non-null   object \n",
      " 10  movie_title                5043 non-null   object \n",
      " 11  num_voted_users            5043 non-null   int64  \n",
      " 12  cast_total_facebook_likes  5043 non-null   int64  \n",
      " 13  actor_3_name               5020 non-null   object \n",
      " 14  facenumber_in_poster       5030 non-null   float64\n",
      " 15  plot_keywords              4890 non-null   object \n",
      " 16  movie_imdb_link            5043 non-null   object \n",
      " 17  num_user_for_reviews       5022 non-null   float64\n",
      " 18  language                   5031 non-null   object \n",
      " 19  country                    5038 non-null   object \n",
      " 20  content_rating             4740 non-null   object \n",
      " 21  budget                     4551 non-null   float64\n",
      " 22  title_year                 4935 non-null   float64\n",
      " 23  actor_2_facebook_likes     5030 non-null   float64\n",
      " 24  imdb_score                 5043 non-null   float64\n",
      " 25  aspect_ratio               4714 non-null   float64\n",
      " 26  movie_facebook_likes       5043 non-null   int64  \n",
      "dtypes: float64(13), int64(3), object(11)\n",
      "memory usage: 1.0+ MB\n",
      "None\n"
     ]
    }
   ],
   "source": [
    "# Display the information about the dataset\n",
    "print(df.info())"
   ]
  },
  {
   "cell_type": "code",
   "execution_count": 4,
   "metadata": {},
   "outputs": [
    {
     "name": "stdout",
     "output_type": "stream",
     "text": [
      "       num_critic_for_reviews     duration  director_facebook_likes  \\\n",
      "count             4993.000000  5028.000000              4939.000000   \n",
      "mean               140.194272   107.201074               686.509212   \n",
      "std                121.601675    25.197441              2813.328607   \n",
      "min                  1.000000     7.000000                 0.000000   \n",
      "25%                 50.000000    93.000000                 7.000000   \n",
      "50%                110.000000   103.000000                49.000000   \n",
      "75%                195.000000   118.000000               194.500000   \n",
      "max                813.000000   511.000000             23000.000000   \n",
      "\n",
      "       actor_3_facebook_likes  actor_1_facebook_likes         gross  \\\n",
      "count             5020.000000             5036.000000  4.159000e+03   \n",
      "mean               645.009761             6560.047061  4.846841e+07   \n",
      "std               1665.041728            15020.759120  6.845299e+07   \n",
      "min                  0.000000                0.000000  1.620000e+02   \n",
      "25%                133.000000              614.000000  5.340988e+06   \n",
      "50%                371.500000              988.000000  2.551750e+07   \n",
      "75%                636.000000            11000.000000  6.230944e+07   \n",
      "max              23000.000000           640000.000000  7.605058e+08   \n",
      "\n",
      "       num_voted_users  cast_total_facebook_likes  facenumber_in_poster  \\\n",
      "count     5.043000e+03                5043.000000           5030.000000   \n",
      "mean      8.366816e+04                9699.063851              1.371173   \n",
      "std       1.384853e+05               18163.799124              2.013576   \n",
      "min       5.000000e+00                   0.000000              0.000000   \n",
      "25%       8.593500e+03                1411.000000              0.000000   \n",
      "50%       3.435900e+04                3090.000000              1.000000   \n",
      "75%       9.630900e+04               13756.500000              2.000000   \n",
      "max       1.689764e+06              656730.000000             43.000000   \n",
      "\n",
      "       num_user_for_reviews        budget   title_year  \\\n",
      "count           5022.000000  4.551000e+03  4935.000000   \n",
      "mean             272.770808  3.975262e+07  2002.470517   \n",
      "std              377.982886  2.061149e+08    12.474599   \n",
      "min                1.000000  2.180000e+02  1916.000000   \n",
      "25%               65.000000  6.000000e+06  1999.000000   \n",
      "50%              156.000000  2.000000e+07  2005.000000   \n",
      "75%              326.000000  4.500000e+07  2011.000000   \n",
      "max             5060.000000  1.221550e+10  2016.000000   \n",
      "\n",
      "       actor_2_facebook_likes   imdb_score  aspect_ratio  movie_facebook_likes  \n",
      "count             5030.000000  5043.000000   4714.000000           5043.000000  \n",
      "mean              1651.754473     6.442138      2.220403           7525.964505  \n",
      "std               4042.438863     1.125116      1.385113          19320.445110  \n",
      "min                  0.000000     1.600000      1.180000              0.000000  \n",
      "25%                281.000000     5.800000      1.850000              0.000000  \n",
      "50%                595.000000     6.600000      2.350000            166.000000  \n",
      "75%                918.000000     7.200000      2.350000           3000.000000  \n",
      "max             137000.000000     9.500000     16.000000         349000.000000  \n"
     ]
    }
   ],
   "source": [
    "# Display the statistics of the dataset\n",
    "print(df.describe())"
   ]
  },
  {
   "cell_type": "code",
   "execution_count": 5,
   "metadata": {},
   "outputs": [
    {
     "name": "stdout",
     "output_type": "stream",
     "text": [
      "6.7    223\n",
      "6.6    201\n",
      "7.2    195\n",
      "6.5    186\n",
      "6.4    185\n",
      "      ... \n",
      "9.5      1\n",
      "1.6      1\n",
      "9.3      1\n",
      "1.7      1\n",
      "9.2      1\n",
      "Name: imdb_score, Length: 78, dtype: int64\n"
     ]
    }
   ],
   "source": [
    "# Display the value counts of the 'imdb_score' column\n",
    "print(df['imdb_score'].value_counts())"
   ]
  },
  {
   "cell_type": "code",
   "execution_count": 6,
   "metadata": {},
   "outputs": [
    {
     "name": "stdout",
     "output_type": "stream",
     "text": [
      "director_name                104\n",
      "num_critic_for_reviews        50\n",
      "duration                      15\n",
      "director_facebook_likes      104\n",
      "actor_3_facebook_likes        23\n",
      "actor_2_name                  13\n",
      "actor_1_facebook_likes         7\n",
      "gross                        884\n",
      "genres                         0\n",
      "actor_1_name                   7\n",
      "movie_title                    0\n",
      "num_voted_users                0\n",
      "cast_total_facebook_likes      0\n",
      "actor_3_name                  23\n",
      "facenumber_in_poster          13\n",
      "plot_keywords                153\n",
      "movie_imdb_link                0\n",
      "num_user_for_reviews          21\n",
      "language                      12\n",
      "country                        5\n",
      "content_rating               303\n",
      "budget                       492\n",
      "title_year                   108\n",
      "actor_2_facebook_likes        13\n",
      "imdb_score                     0\n",
      "aspect_ratio                 329\n",
      "movie_facebook_likes           0\n",
      "dtype: int64\n"
     ]
    }
   ],
   "source": [
    "# Check for missing values\n",
    "print(df.isna().sum())"
   ]
  },
  {
   "cell_type": "code",
   "execution_count": 7,
   "metadata": {},
   "outputs": [
    {
     "name": "stdout",
     "output_type": "stream",
     "text": [
      "          director_name  num_critic_for_reviews  duration  \\\n",
      "0         James Cameron                   723.0     178.0   \n",
      "1        Gore Verbinski                   302.0     169.0   \n",
      "2            Sam Mendes                   602.0     148.0   \n",
      "3     Christopher Nolan                   813.0     164.0   \n",
      "4           Doug Walker                     NaN       NaN   \n",
      "...                 ...                     ...       ...   \n",
      "5038        Scott Smith                     1.0      87.0   \n",
      "5039                NaN                    43.0      43.0   \n",
      "5040   Benjamin Roberds                    13.0      76.0   \n",
      "5041        Daniel Hsia                    14.0     100.0   \n",
      "5042           Jon Gunn                    43.0      90.0   \n",
      "\n",
      "      director_facebook_likes  actor_3_facebook_likes      actor_2_name  \\\n",
      "0                         0.0                   855.0  Joel David Moore   \n",
      "1                       563.0                  1000.0     Orlando Bloom   \n",
      "2                         0.0                   161.0      Rory Kinnear   \n",
      "3                     22000.0                 23000.0    Christian Bale   \n",
      "4                       131.0                     NaN        Rob Walker   \n",
      "...                       ...                     ...               ...   \n",
      "5038                      2.0                   318.0     Daphne Zuniga   \n",
      "5039                      NaN                   319.0     Valorie Curry   \n",
      "5040                      0.0                     0.0     Maxwell Moody   \n",
      "5041                      0.0                   489.0     Daniel Henney   \n",
      "5042                     16.0                    16.0  Brian Herzlinger   \n",
      "\n",
      "      actor_1_facebook_likes        gross                           genres  \\\n",
      "0                     1000.0  760505847.0  Action|Adventure|Fantasy|Sci-Fi   \n",
      "1                    40000.0  309404152.0         Action|Adventure|Fantasy   \n",
      "2                    11000.0  200074175.0        Action|Adventure|Thriller   \n",
      "3                    27000.0  448130642.0                  Action|Thriller   \n",
      "4                      131.0          NaN                      Documentary   \n",
      "...                      ...          ...                              ...   \n",
      "5038                   637.0          NaN                     Comedy|Drama   \n",
      "5039                   841.0          NaN     Crime|Drama|Mystery|Thriller   \n",
      "5040                     0.0          NaN            Drama|Horror|Thriller   \n",
      "5041                   946.0      10443.0             Comedy|Drama|Romance   \n",
      "5042                    86.0      85222.0                      Documentary   \n",
      "\n",
      "         actor_1_name  ... num_user_for_reviews  language  country  \\\n",
      "0         CCH Pounder  ...               3054.0   English      USA   \n",
      "1         Johnny Depp  ...               1238.0   English      USA   \n",
      "2     Christoph Waltz  ...                994.0   English       UK   \n",
      "3           Tom Hardy  ...               2701.0   English      USA   \n",
      "4         Doug Walker  ...                  NaN       NaN      NaN   \n",
      "...               ...  ...                  ...       ...      ...   \n",
      "5038      Eric Mabius  ...                  6.0   English   Canada   \n",
      "5039      Natalie Zea  ...                359.0   English      USA   \n",
      "5040      Eva Boehnke  ...                  3.0   English      USA   \n",
      "5041        Alan Ruck  ...                  9.0   English      USA   \n",
      "5042      John August  ...                 84.0   English      USA   \n",
      "\n",
      "     content_rating       budget title_year actor_2_facebook_likes  \\\n",
      "0             PG-13  237000000.0     2009.0                  936.0   \n",
      "1             PG-13  300000000.0     2007.0                 5000.0   \n",
      "2             PG-13  245000000.0     2015.0                  393.0   \n",
      "3             PG-13  250000000.0     2012.0                23000.0   \n",
      "4               NaN          NaN        NaN                   12.0   \n",
      "...             ...          ...        ...                    ...   \n",
      "5038            NaN          NaN     2013.0                  470.0   \n",
      "5039          TV-14          NaN        NaN                  593.0   \n",
      "5040            NaN       1400.0     2013.0                    0.0   \n",
      "5041          PG-13          NaN     2012.0                  719.0   \n",
      "5042             PG       1100.0     2004.0                   23.0   \n",
      "\n",
      "      imdb_score aspect_ratio movie_facebook_likes  \n",
      "0            7.9         1.78                33000  \n",
      "1            7.1         2.35                    0  \n",
      "2            6.8         2.35                85000  \n",
      "3            8.5         2.35               164000  \n",
      "4            7.1          NaN                    0  \n",
      "...          ...          ...                  ...  \n",
      "5038         7.7          NaN                   84  \n",
      "5039         7.5        16.00                32000  \n",
      "5040         6.3          NaN                   16  \n",
      "5041         6.3         2.35                  660  \n",
      "5042         6.6         1.85                  456  \n",
      "\n",
      "[5043 rows x 27 columns]\n"
     ]
    }
   ],
   "source": [
    "print(df)"
   ]
  },
  {
   "attachments": {},
   "cell_type": "markdown",
   "metadata": {},
   "source": [
    "# Preprocess"
   ]
  },
  {
   "cell_type": "code",
   "execution_count": 8,
   "metadata": {},
   "outputs": [],
   "source": [
    "from sklearn.model_selection import train_test_split\n",
    "from sklearn.impute import SimpleImputer"
   ]
  },
  {
   "cell_type": "code",
   "execution_count": 9,
   "metadata": {},
   "outputs": [],
   "source": [
    "# discretize target variable into high or low\n",
    "df['imdb_score'] = df['imdb_score'].apply(lambda score: 'high' if score >= 7 else 'low')"
   ]
  },
  {
   "cell_type": "code",
   "execution_count": 10,
   "metadata": {},
   "outputs": [
    {
     "name": "stdout",
     "output_type": "stream",
     "text": [
      "          director_name  num_critic_for_reviews  duration  \\\n",
      "0         James Cameron                   723.0     178.0   \n",
      "1        Gore Verbinski                   302.0     169.0   \n",
      "2            Sam Mendes                   602.0     148.0   \n",
      "3     Christopher Nolan                   813.0     164.0   \n",
      "4           Doug Walker                     NaN       NaN   \n",
      "...                 ...                     ...       ...   \n",
      "5038        Scott Smith                     1.0      87.0   \n",
      "5039                NaN                    43.0      43.0   \n",
      "5040   Benjamin Roberds                    13.0      76.0   \n",
      "5041        Daniel Hsia                    14.0     100.0   \n",
      "5042           Jon Gunn                    43.0      90.0   \n",
      "\n",
      "      director_facebook_likes  actor_3_facebook_likes      actor_2_name  \\\n",
      "0                         0.0                   855.0  Joel David Moore   \n",
      "1                       563.0                  1000.0     Orlando Bloom   \n",
      "2                         0.0                   161.0      Rory Kinnear   \n",
      "3                     22000.0                 23000.0    Christian Bale   \n",
      "4                       131.0                     NaN        Rob Walker   \n",
      "...                       ...                     ...               ...   \n",
      "5038                      2.0                   318.0     Daphne Zuniga   \n",
      "5039                      NaN                   319.0     Valorie Curry   \n",
      "5040                      0.0                     0.0     Maxwell Moody   \n",
      "5041                      0.0                   489.0     Daniel Henney   \n",
      "5042                     16.0                    16.0  Brian Herzlinger   \n",
      "\n",
      "      actor_1_facebook_likes        gross                           genres  \\\n",
      "0                     1000.0  760505847.0  Action|Adventure|Fantasy|Sci-Fi   \n",
      "1                    40000.0  309404152.0         Action|Adventure|Fantasy   \n",
      "2                    11000.0  200074175.0        Action|Adventure|Thriller   \n",
      "3                    27000.0  448130642.0                  Action|Thriller   \n",
      "4                      131.0          NaN                      Documentary   \n",
      "...                      ...          ...                              ...   \n",
      "5038                   637.0          NaN                     Comedy|Drama   \n",
      "5039                   841.0          NaN     Crime|Drama|Mystery|Thriller   \n",
      "5040                     0.0          NaN            Drama|Horror|Thriller   \n",
      "5041                   946.0      10443.0             Comedy|Drama|Romance   \n",
      "5042                    86.0      85222.0                      Documentary   \n",
      "\n",
      "         actor_1_name  ... num_user_for_reviews  language  country  \\\n",
      "0         CCH Pounder  ...               3054.0   English      USA   \n",
      "1         Johnny Depp  ...               1238.0   English      USA   \n",
      "2     Christoph Waltz  ...                994.0   English       UK   \n",
      "3           Tom Hardy  ...               2701.0   English      USA   \n",
      "4         Doug Walker  ...                  NaN       NaN      NaN   \n",
      "...               ...  ...                  ...       ...      ...   \n",
      "5038      Eric Mabius  ...                  6.0   English   Canada   \n",
      "5039      Natalie Zea  ...                359.0   English      USA   \n",
      "5040      Eva Boehnke  ...                  3.0   English      USA   \n",
      "5041        Alan Ruck  ...                  9.0   English      USA   \n",
      "5042      John August  ...                 84.0   English      USA   \n",
      "\n",
      "     content_rating       budget title_year actor_2_facebook_likes  \\\n",
      "0             PG-13  237000000.0     2009.0                  936.0   \n",
      "1             PG-13  300000000.0     2007.0                 5000.0   \n",
      "2             PG-13  245000000.0     2015.0                  393.0   \n",
      "3             PG-13  250000000.0     2012.0                23000.0   \n",
      "4               NaN          NaN        NaN                   12.0   \n",
      "...             ...          ...        ...                    ...   \n",
      "5038            NaN          NaN     2013.0                  470.0   \n",
      "5039          TV-14          NaN        NaN                  593.0   \n",
      "5040            NaN       1400.0     2013.0                    0.0   \n",
      "5041          PG-13          NaN     2012.0                  719.0   \n",
      "5042             PG       1100.0     2004.0                   23.0   \n",
      "\n",
      "      imdb_score aspect_ratio movie_facebook_likes  \n",
      "0           high         1.78                33000  \n",
      "1           high         2.35                    0  \n",
      "2            low         2.35                85000  \n",
      "3           high         2.35               164000  \n",
      "4           high          NaN                    0  \n",
      "...          ...          ...                  ...  \n",
      "5038        high          NaN                   84  \n",
      "5039        high        16.00                32000  \n",
      "5040         low          NaN                   16  \n",
      "5041         low         2.35                  660  \n",
      "5042         low         1.85                  456  \n",
      "\n",
      "[5043 rows x 27 columns]\n"
     ]
    }
   ],
   "source": [
    "print(df)"
   ]
  },
  {
   "cell_type": "code",
   "execution_count": 11,
   "metadata": {},
   "outputs": [
    {
     "data": {
      "text/plain": [
       "0       high\n",
       "1       high\n",
       "2        low\n",
       "3       high\n",
       "4       high\n",
       "        ... \n",
       "5038    high\n",
       "5039    high\n",
       "5040     low\n",
       "5041     low\n",
       "5042     low\n",
       "Name: imdb_score, Length: 5043, dtype: object"
      ]
     },
     "execution_count": 11,
     "metadata": {},
     "output_type": "execute_result"
    }
   ],
   "source": [
    "df['imdb_score']"
   ]
  },
  {
   "cell_type": "code",
   "execution_count": 12,
   "metadata": {},
   "outputs": [],
   "source": [
    "df = df.dropna()"
   ]
  },
  {
   "cell_type": "code",
   "execution_count": 13,
   "metadata": {},
   "outputs": [],
   "source": [
    "# Split the dataset into train and test sets\n",
    "train_df, test_df = train_test_split(df, test_size=0.2, random_state=42)"
   ]
  },
  {
   "cell_type": "code",
   "execution_count": 14,
   "metadata": {},
   "outputs": [],
   "source": [
    "# Select the relevant features for modeling\n",
    "features = ['num_critic_for_reviews', 'duration', 'director_facebook_likes', 'actor_1_facebook_likes', 'gross', 'num_voted_users', 'cast_total_facebook_likes', 'facenumber_in_poster', 'num_user_for_reviews', 'budget', 'title_year', 'actor_2_facebook_likes', 'imdb_score', 'movie_facebook_likes']\n",
    "train_X = train_df[features]\n",
    "train_y = train_df['imdb_score']\n",
    "test_X = test_df[features]\n",
    "test_y = test_df['imdb_score']"
   ]
  },
  {
   "cell_type": "code",
   "execution_count": 16,
   "metadata": {},
   "outputs": [],
   "source": [
    "# Fill in missing values in the train dataset\n",
    "#imputer = SimpleImputer(strategy='median')\n",
    "#train_X = imputer.fit_transform(train_X)"
   ]
  },
  {
   "cell_type": "code",
   "execution_count": 17,
   "metadata": {},
   "outputs": [
    {
     "ename": "ValueError",
     "evalue": "could not convert string to float: 'low'",
     "output_type": "error",
     "traceback": [
      "\u001b[0;31m---------------------------------------------------------------------------\u001b[0m",
      "\u001b[0;31mValueError\u001b[0m                                Traceback (most recent call last)",
      "Cell \u001b[0;32mIn[17], line 4\u001b[0m\n\u001b[1;32m      2\u001b[0m \u001b[39mfrom\u001b[39;00m \u001b[39msklearn\u001b[39;00m\u001b[39m.\u001b[39;00m\u001b[39mpreprocessing\u001b[39;00m \u001b[39mimport\u001b[39;00m StandardScaler\n\u001b[1;32m      3\u001b[0m scaler \u001b[39m=\u001b[39m StandardScaler()\n\u001b[0;32m----> 4\u001b[0m train_X \u001b[39m=\u001b[39m scaler\u001b[39m.\u001b[39;49mfit_transform(train_X)\n",
      "File \u001b[0;32m~/opt/anaconda3/envs/bigdata/lib/python3.9/site-packages/sklearn/base.py:867\u001b[0m, in \u001b[0;36mTransformerMixin.fit_transform\u001b[0;34m(self, X, y, **fit_params)\u001b[0m\n\u001b[1;32m    863\u001b[0m \u001b[39m# non-optimized default implementation; override when a better\u001b[39;00m\n\u001b[1;32m    864\u001b[0m \u001b[39m# method is possible for a given clustering algorithm\u001b[39;00m\n\u001b[1;32m    865\u001b[0m \u001b[39mif\u001b[39;00m y \u001b[39mis\u001b[39;00m \u001b[39mNone\u001b[39;00m:\n\u001b[1;32m    866\u001b[0m     \u001b[39m# fit method of arity 1 (unsupervised transformation)\u001b[39;00m\n\u001b[0;32m--> 867\u001b[0m     \u001b[39mreturn\u001b[39;00m \u001b[39mself\u001b[39;49m\u001b[39m.\u001b[39;49mfit(X, \u001b[39m*\u001b[39;49m\u001b[39m*\u001b[39;49mfit_params)\u001b[39m.\u001b[39mtransform(X)\n\u001b[1;32m    868\u001b[0m \u001b[39melse\u001b[39;00m:\n\u001b[1;32m    869\u001b[0m     \u001b[39m# fit method of arity 2 (supervised transformation)\u001b[39;00m\n\u001b[1;32m    870\u001b[0m     \u001b[39mreturn\u001b[39;00m \u001b[39mself\u001b[39m\u001b[39m.\u001b[39mfit(X, y, \u001b[39m*\u001b[39m\u001b[39m*\u001b[39mfit_params)\u001b[39m.\u001b[39mtransform(X)\n",
      "File \u001b[0;32m~/opt/anaconda3/envs/bigdata/lib/python3.9/site-packages/sklearn/preprocessing/_data.py:809\u001b[0m, in \u001b[0;36mStandardScaler.fit\u001b[0;34m(self, X, y, sample_weight)\u001b[0m\n\u001b[1;32m    807\u001b[0m \u001b[39m# Reset internal state before fitting\u001b[39;00m\n\u001b[1;32m    808\u001b[0m \u001b[39mself\u001b[39m\u001b[39m.\u001b[39m_reset()\n\u001b[0;32m--> 809\u001b[0m \u001b[39mreturn\u001b[39;00m \u001b[39mself\u001b[39;49m\u001b[39m.\u001b[39;49mpartial_fit(X, y, sample_weight)\n",
      "File \u001b[0;32m~/opt/anaconda3/envs/bigdata/lib/python3.9/site-packages/sklearn/preprocessing/_data.py:844\u001b[0m, in \u001b[0;36mStandardScaler.partial_fit\u001b[0;34m(self, X, y, sample_weight)\u001b[0m\n\u001b[1;32m    812\u001b[0m \u001b[39m\"\"\"Online computation of mean and std on X for later scaling.\u001b[39;00m\n\u001b[1;32m    813\u001b[0m \n\u001b[1;32m    814\u001b[0m \u001b[39mAll of X is processed as a single batch. This is intended for cases\u001b[39;00m\n\u001b[0;32m   (...)\u001b[0m\n\u001b[1;32m    841\u001b[0m \u001b[39m    Fitted scaler.\u001b[39;00m\n\u001b[1;32m    842\u001b[0m \u001b[39m\"\"\"\u001b[39;00m\n\u001b[1;32m    843\u001b[0m first_call \u001b[39m=\u001b[39m \u001b[39mnot\u001b[39;00m \u001b[39mhasattr\u001b[39m(\u001b[39mself\u001b[39m, \u001b[39m\"\u001b[39m\u001b[39mn_samples_seen_\u001b[39m\u001b[39m\"\u001b[39m)\n\u001b[0;32m--> 844\u001b[0m X \u001b[39m=\u001b[39m \u001b[39mself\u001b[39;49m\u001b[39m.\u001b[39;49m_validate_data(\n\u001b[1;32m    845\u001b[0m     X,\n\u001b[1;32m    846\u001b[0m     accept_sparse\u001b[39m=\u001b[39;49m(\u001b[39m\"\u001b[39;49m\u001b[39mcsr\u001b[39;49m\u001b[39m\"\u001b[39;49m, \u001b[39m\"\u001b[39;49m\u001b[39mcsc\u001b[39;49m\u001b[39m\"\u001b[39;49m),\n\u001b[1;32m    847\u001b[0m     dtype\u001b[39m=\u001b[39;49mFLOAT_DTYPES,\n\u001b[1;32m    848\u001b[0m     force_all_finite\u001b[39m=\u001b[39;49m\u001b[39m\"\u001b[39;49m\u001b[39mallow-nan\u001b[39;49m\u001b[39m\"\u001b[39;49m,\n\u001b[1;32m    849\u001b[0m     reset\u001b[39m=\u001b[39;49mfirst_call,\n\u001b[1;32m    850\u001b[0m )\n\u001b[1;32m    851\u001b[0m n_features \u001b[39m=\u001b[39m X\u001b[39m.\u001b[39mshape[\u001b[39m1\u001b[39m]\n\u001b[1;32m    853\u001b[0m \u001b[39mif\u001b[39;00m sample_weight \u001b[39mis\u001b[39;00m \u001b[39mnot\u001b[39;00m \u001b[39mNone\u001b[39;00m:\n",
      "File \u001b[0;32m~/opt/anaconda3/envs/bigdata/lib/python3.9/site-packages/sklearn/base.py:577\u001b[0m, in \u001b[0;36mBaseEstimator._validate_data\u001b[0;34m(self, X, y, reset, validate_separately, **check_params)\u001b[0m\n\u001b[1;32m    575\u001b[0m     \u001b[39mraise\u001b[39;00m \u001b[39mValueError\u001b[39;00m(\u001b[39m\"\u001b[39m\u001b[39mValidation should be done on X, y or both.\u001b[39m\u001b[39m\"\u001b[39m)\n\u001b[1;32m    576\u001b[0m \u001b[39melif\u001b[39;00m \u001b[39mnot\u001b[39;00m no_val_X \u001b[39mand\u001b[39;00m no_val_y:\n\u001b[0;32m--> 577\u001b[0m     X \u001b[39m=\u001b[39m check_array(X, input_name\u001b[39m=\u001b[39;49m\u001b[39m\"\u001b[39;49m\u001b[39mX\u001b[39;49m\u001b[39m\"\u001b[39;49m, \u001b[39m*\u001b[39;49m\u001b[39m*\u001b[39;49mcheck_params)\n\u001b[1;32m    578\u001b[0m     out \u001b[39m=\u001b[39m X\n\u001b[1;32m    579\u001b[0m \u001b[39melif\u001b[39;00m no_val_X \u001b[39mand\u001b[39;00m \u001b[39mnot\u001b[39;00m no_val_y:\n",
      "File \u001b[0;32m~/opt/anaconda3/envs/bigdata/lib/python3.9/site-packages/sklearn/utils/validation.py:856\u001b[0m, in \u001b[0;36mcheck_array\u001b[0;34m(array, accept_sparse, accept_large_sparse, dtype, order, copy, force_all_finite, ensure_2d, allow_nd, ensure_min_samples, ensure_min_features, estimator, input_name)\u001b[0m\n\u001b[1;32m    854\u001b[0m         array \u001b[39m=\u001b[39m array\u001b[39m.\u001b[39mastype(dtype, casting\u001b[39m=\u001b[39m\u001b[39m\"\u001b[39m\u001b[39munsafe\u001b[39m\u001b[39m\"\u001b[39m, copy\u001b[39m=\u001b[39m\u001b[39mFalse\u001b[39;00m)\n\u001b[1;32m    855\u001b[0m     \u001b[39melse\u001b[39;00m:\n\u001b[0;32m--> 856\u001b[0m         array \u001b[39m=\u001b[39m np\u001b[39m.\u001b[39;49masarray(array, order\u001b[39m=\u001b[39;49morder, dtype\u001b[39m=\u001b[39;49mdtype)\n\u001b[1;32m    857\u001b[0m \u001b[39mexcept\u001b[39;00m ComplexWarning \u001b[39mas\u001b[39;00m complex_warning:\n\u001b[1;32m    858\u001b[0m     \u001b[39mraise\u001b[39;00m \u001b[39mValueError\u001b[39;00m(\n\u001b[1;32m    859\u001b[0m         \u001b[39m\"\u001b[39m\u001b[39mComplex data not supported\u001b[39m\u001b[39m\\n\u001b[39;00m\u001b[39m{}\u001b[39;00m\u001b[39m\\n\u001b[39;00m\u001b[39m\"\u001b[39m\u001b[39m.\u001b[39mformat(array)\n\u001b[1;32m    860\u001b[0m     ) \u001b[39mfrom\u001b[39;00m \u001b[39mcomplex_warning\u001b[39;00m\n",
      "File \u001b[0;32m~/opt/anaconda3/envs/bigdata/lib/python3.9/site-packages/pandas/core/generic.py:2070\u001b[0m, in \u001b[0;36mNDFrame.__array__\u001b[0;34m(self, dtype)\u001b[0m\n\u001b[1;32m   2069\u001b[0m \u001b[39mdef\u001b[39;00m \u001b[39m__array__\u001b[39m(\u001b[39mself\u001b[39m, dtype: npt\u001b[39m.\u001b[39mDTypeLike \u001b[39m|\u001b[39m \u001b[39mNone\u001b[39;00m \u001b[39m=\u001b[39m \u001b[39mNone\u001b[39;00m) \u001b[39m-\u001b[39m\u001b[39m>\u001b[39m np\u001b[39m.\u001b[39mndarray:\n\u001b[0;32m-> 2070\u001b[0m     \u001b[39mreturn\u001b[39;00m np\u001b[39m.\u001b[39;49masarray(\u001b[39mself\u001b[39;49m\u001b[39m.\u001b[39;49m_values, dtype\u001b[39m=\u001b[39;49mdtype)\n",
      "\u001b[0;31mValueError\u001b[0m: could not convert string to float: 'low'"
     ]
    }
   ],
   "source": [
    "# Scale the features in the train dataset\n",
    "from sklearn.preprocessing import StandardScaler\n",
    "scaler = StandardScaler()\n",
    "train_X = scaler.fit_transform(train_X)\n",
    "\n",
    "# Only numerical features are used, no further preprocessing needed for Decision Tree"
   ]
  },
  {
   "cell_type": "code",
   "execution_count": 14,
   "metadata": {},
   "outputs": [],
   "source": [
    "from sklearn.tree import DecisionTreeClassifier\n",
    "from sklearn.metrics import accuracy_score"
   ]
  },
  {
   "cell_type": "code",
   "execution_count": 18,
   "metadata": {},
   "outputs": [
    {
     "name": "stdout",
     "output_type": "stream",
     "text": [
      "463     6.9\n",
      "3688    5.0\n",
      "1270    6.5\n",
      "2118    7.8\n",
      "594     6.9\n",
      "       ... \n",
      "4426    5.7\n",
      "466     6.3\n",
      "3092    6.9\n",
      "3772    7.2\n",
      "860     6.4\n",
      "Name: imdb_score, Length: 4034, dtype: float64\n"
     ]
    }
   ],
   "source": [
    "print(train_y)"
   ]
  },
  {
   "cell_type": "code",
   "execution_count": 17,
   "metadata": {},
   "outputs": [
    {
     "name": "stdout",
     "output_type": "stream",
     "text": [
      "[[ 1.54776598  0.4328296  -0.19553661 ...  3.29548144  0.41104037\n",
      "   0.70447659]\n",
      " [-0.62777004 -0.44313412 -0.1885808  ... -0.26384451 -1.29550857\n",
      "  -0.35157134]\n",
      " [ 0.60224456 -0.00515226 -0.22006502 ... -0.36872608  0.05176691\n",
      "  -0.40220188]\n",
      " ...\n",
      " [-0.73654684  0.39301306 -0.08277917 ...  2.31067797  0.41104037\n",
      "  -0.40220188]\n",
      " [ 0.45999797  0.59209573 -0.23031569 ... -0.36429447  0.68049546\n",
      "  -0.40220188]\n",
      " [-0.76164918 -0.12460186 -0.2383698  ...  2.31067797 -0.03805146\n",
      "   0.04046951]]\n"
     ]
    }
   ],
   "source": [
    "print(train_X)"
   ]
  },
  {
   "cell_type": "code",
   "execution_count": 15,
   "metadata": {},
   "outputs": [
    {
     "ename": "ValueError",
     "evalue": "Unknown label type: 'continuous'",
     "output_type": "error",
     "traceback": [
      "\u001b[0;31m---------------------------------------------------------------------------\u001b[0m",
      "\u001b[0;31mValueError\u001b[0m                                Traceback (most recent call last)",
      "Cell \u001b[0;32mIn[15], line 3\u001b[0m\n\u001b[1;32m      1\u001b[0m \u001b[39m# Train the decision tree model\u001b[39;00m\n\u001b[1;32m      2\u001b[0m dt_model \u001b[39m=\u001b[39m DecisionTreeClassifier(random_state\u001b[39m=\u001b[39m\u001b[39m42\u001b[39m)\n\u001b[0;32m----> 3\u001b[0m dt_model\u001b[39m.\u001b[39;49mfit(train_X, train_y)\n",
      "File \u001b[0;32m~/opt/anaconda3/envs/bigdata/lib/python3.9/site-packages/sklearn/tree/_classes.py:969\u001b[0m, in \u001b[0;36mDecisionTreeClassifier.fit\u001b[0;34m(self, X, y, sample_weight, check_input)\u001b[0m\n\u001b[1;32m    939\u001b[0m \u001b[39mdef\u001b[39;00m \u001b[39mfit\u001b[39m(\u001b[39mself\u001b[39m, X, y, sample_weight\u001b[39m=\u001b[39m\u001b[39mNone\u001b[39;00m, check_input\u001b[39m=\u001b[39m\u001b[39mTrue\u001b[39;00m):\n\u001b[1;32m    940\u001b[0m     \u001b[39m\"\"\"Build a decision tree classifier from the training set (X, y).\u001b[39;00m\n\u001b[1;32m    941\u001b[0m \n\u001b[1;32m    942\u001b[0m \u001b[39m    Parameters\u001b[39;00m\n\u001b[0;32m   (...)\u001b[0m\n\u001b[1;32m    966\u001b[0m \u001b[39m        Fitted estimator.\u001b[39;00m\n\u001b[1;32m    967\u001b[0m \u001b[39m    \"\"\"\u001b[39;00m\n\u001b[0;32m--> 969\u001b[0m     \u001b[39msuper\u001b[39;49m()\u001b[39m.\u001b[39;49mfit(\n\u001b[1;32m    970\u001b[0m         X,\n\u001b[1;32m    971\u001b[0m         y,\n\u001b[1;32m    972\u001b[0m         sample_weight\u001b[39m=\u001b[39;49msample_weight,\n\u001b[1;32m    973\u001b[0m         check_input\u001b[39m=\u001b[39;49mcheck_input,\n\u001b[1;32m    974\u001b[0m     )\n\u001b[1;32m    975\u001b[0m     \u001b[39mreturn\u001b[39;00m \u001b[39mself\u001b[39m\n",
      "File \u001b[0;32m~/opt/anaconda3/envs/bigdata/lib/python3.9/site-packages/sklearn/tree/_classes.py:210\u001b[0m, in \u001b[0;36mBaseDecisionTree.fit\u001b[0;34m(self, X, y, sample_weight, check_input)\u001b[0m\n\u001b[1;32m    207\u001b[0m \u001b[39mself\u001b[39m\u001b[39m.\u001b[39mn_outputs_ \u001b[39m=\u001b[39m y\u001b[39m.\u001b[39mshape[\u001b[39m1\u001b[39m]\n\u001b[1;32m    209\u001b[0m \u001b[39mif\u001b[39;00m is_classification:\n\u001b[0;32m--> 210\u001b[0m     check_classification_targets(y)\n\u001b[1;32m    211\u001b[0m     y \u001b[39m=\u001b[39m np\u001b[39m.\u001b[39mcopy(y)\n\u001b[1;32m    213\u001b[0m     \u001b[39mself\u001b[39m\u001b[39m.\u001b[39mclasses_ \u001b[39m=\u001b[39m []\n",
      "File \u001b[0;32m~/opt/anaconda3/envs/bigdata/lib/python3.9/site-packages/sklearn/utils/multiclass.py:200\u001b[0m, in \u001b[0;36mcheck_classification_targets\u001b[0;34m(y)\u001b[0m\n\u001b[1;32m    192\u001b[0m y_type \u001b[39m=\u001b[39m type_of_target(y, input_name\u001b[39m=\u001b[39m\u001b[39m\"\u001b[39m\u001b[39my\u001b[39m\u001b[39m\"\u001b[39m)\n\u001b[1;32m    193\u001b[0m \u001b[39mif\u001b[39;00m y_type \u001b[39mnot\u001b[39;00m \u001b[39min\u001b[39;00m [\n\u001b[1;32m    194\u001b[0m     \u001b[39m\"\u001b[39m\u001b[39mbinary\u001b[39m\u001b[39m\"\u001b[39m,\n\u001b[1;32m    195\u001b[0m     \u001b[39m\"\u001b[39m\u001b[39mmulticlass\u001b[39m\u001b[39m\"\u001b[39m,\n\u001b[0;32m   (...)\u001b[0m\n\u001b[1;32m    198\u001b[0m     \u001b[39m\"\u001b[39m\u001b[39mmultilabel-sequences\u001b[39m\u001b[39m\"\u001b[39m,\n\u001b[1;32m    199\u001b[0m ]:\n\u001b[0;32m--> 200\u001b[0m     \u001b[39mraise\u001b[39;00m \u001b[39mValueError\u001b[39;00m(\u001b[39m\"\u001b[39m\u001b[39mUnknown label type: \u001b[39m\u001b[39m%r\u001b[39;00m\u001b[39m\"\u001b[39m \u001b[39m%\u001b[39m y_type)\n",
      "\u001b[0;31mValueError\u001b[0m: Unknown label type: 'continuous'"
     ]
    }
   ],
   "source": [
    "# Train the decision tree model\n",
    "dt_model = DecisionTreeClassifier(random_state=42)\n",
    "dt_model.fit(train_X, train_y)"
   ]
  },
  {
   "cell_type": "code",
   "execution_count": null,
   "metadata": {},
   "outputs": [],
   "source": [
    "# Predict the test dataset using the trained model\n",
    "test_X = imputer.transform(test_X)\n",
    "test_X = scaler.transform(test_X)\n",
    "test_y_pred = dt_model.predict(test_X)"
   ]
  },
  {
   "cell_type": "code",
   "execution_count": null,
   "metadata": {},
   "outputs": [],
   "source": [
    "# Evaluate the performance of the model\n",
    "accuracy = accuracy_score(test_y, test_y_pred)\n",
    "print(f\"Accuracy of the decision tree model: {accuracy}\")"
   ]
  }
 ],
 "metadata": {
  "kernelspec": {
   "display_name": "bigdata",
   "language": "python",
   "name": "python3"
  },
  "language_info": {
   "codemirror_mode": {
    "name": "ipython",
    "version": 3
   },
   "file_extension": ".py",
   "mimetype": "text/x-python",
   "name": "python",
   "nbconvert_exporter": "python",
   "pygments_lexer": "ipython3",
   "version": "3.9.16"
  },
  "orig_nbformat": 4,
  "vscode": {
   "interpreter": {
    "hash": "a41c5551a73bb79e146d4724a0391b444e1f556c1c65ebbb3c50f9dafedd2a5e"
   }
  }
 },
 "nbformat": 4,
 "nbformat_minor": 2
}
