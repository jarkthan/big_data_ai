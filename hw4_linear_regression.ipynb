{
 "cells": [
  {
   "cell_type": "markdown",
   "metadata": {},
   "source": [
    "Homework 4: Linear Regression"
   ]
  },
  {
   "cell_type": "code",
   "execution_count": 1,
   "metadata": {},
   "outputs": [
    {
     "ename": "ModuleNotFoundError",
     "evalue": "No module named 'numpy'",
     "output_type": "error",
     "traceback": [
      "\u001b[0;31m---------------------------------------------------------------------------\u001b[0m",
      "\u001b[0;31mModuleNotFoundError\u001b[0m                       Traceback (most recent call last)",
      "Cell \u001b[0;32mIn[1], line 1\u001b[0m\n\u001b[0;32m----> 1\u001b[0m \u001b[38;5;28;01mimport\u001b[39;00m \u001b[38;5;21;01mnumpy\u001b[39;00m \u001b[38;5;28;01mas\u001b[39;00m \u001b[38;5;21;01mnp\u001b[39;00m\n\u001b[1;32m      2\u001b[0m \u001b[38;5;28;01mimport\u001b[39;00m \u001b[38;5;21;01mpandas\u001b[39;00m \u001b[38;5;28;01mas\u001b[39;00m \u001b[38;5;21;01mpd\u001b[39;00m\n\u001b[1;32m      3\u001b[0m \u001b[38;5;28;01mfrom\u001b[39;00m \u001b[38;5;21;01mscipy\u001b[39;00m \u001b[38;5;28;01mimport\u001b[39;00m stats\n",
      "\u001b[0;31mModuleNotFoundError\u001b[0m: No module named 'numpy'"
     ]
    }
   ],
   "source": [
    "import numpy as np\n",
    "import pandas as pd\n",
    "from scipy import stats\n",
    "from sklearn.model_selection import train_test_split\n",
    "from sklearn.preprocessing import StandardScaler\n",
    "from sklearn.linear_model import LinearRegression\n",
    "from sklearn.metrics import r2_score, mean_squared_error,mean_absolute_percentage_error\n",
    "import matplotlib.pyplot as plt\n",
    "import seaborn as sns"
   ]
  },
  {
   "cell_type": "markdown",
   "metadata": {},
   "source": [
    "### Load data:"
   ]
  },
  {
   "cell_type": "code",
   "execution_count": 2,
   "metadata": {},
   "outputs": [
    {
     "ename": "NameError",
     "evalue": "name 'pd' is not defined",
     "output_type": "error",
     "traceback": [
      "\u001b[0;31m---------------------------------------------------------------------------\u001b[0m",
      "\u001b[0;31mNameError\u001b[0m                                 Traceback (most recent call last)",
      "Cell \u001b[0;32mIn[2], line 1\u001b[0m\n\u001b[0;32m----> 1\u001b[0m df \u001b[38;5;241m=\u001b[39m \u001b[43mpd\u001b[49m\u001b[38;5;241m.\u001b[39mread_csv(\u001b[38;5;124m'\u001b[39m\u001b[38;5;124mE:\u001b[39m\u001b[38;5;124m\\\u001b[39m\u001b[38;5;124mChula work\u001b[39m\u001b[38;5;124m\\\u001b[39m\u001b[38;5;124mYear 4\u001b[39m\u001b[38;5;124m\\\u001b[39m\u001b[38;5;124mBig Data\u001b[39m\u001b[38;5;124m\\\u001b[39m\u001b[38;5;124mhw4_linear.csv\u001b[39m\u001b[38;5;124m'\u001b[39m)\n\u001b[1;32m      2\u001b[0m df\u001b[38;5;241m.\u001b[39mhead()\n",
      "\u001b[0;31mNameError\u001b[0m: name 'pd' is not defined"
     ]
    }
   ],
   "source": [
    "df = pd.read_csv('E:\\Chula work\\Year 4\\Big Data\\hw4_linear.csv')\n",
    "df.head()"
   ]
  },
  {
   "cell_type": "code",
   "execution_count": 3,
   "metadata": {},
   "outputs": [
    {
     "ename": "NameError",
     "evalue": "name 'df' is not defined",
     "output_type": "error",
     "traceback": [
      "\u001b[0;31m---------------------------------------------------------------------------\u001b[0m",
      "\u001b[0;31mNameError\u001b[0m                                 Traceback (most recent call last)",
      "Cell \u001b[0;32mIn[3], line 1\u001b[0m\n\u001b[0;32m----> 1\u001b[0m \u001b[43mdf\u001b[49m\u001b[38;5;241m.\u001b[39minfo()\n",
      "\u001b[0;31mNameError\u001b[0m: name 'df' is not defined"
     ]
    }
   ],
   "source": [
    "df.info()"
   ]
  },
  {
   "cell_type": "code",
   "execution_count": 4,
   "metadata": {},
   "outputs": [
    {
     "ename": "NameError",
     "evalue": "name 'df' is not defined",
     "output_type": "error",
     "traceback": [
      "\u001b[0;31m---------------------------------------------------------------------------\u001b[0m",
      "\u001b[0;31mNameError\u001b[0m                                 Traceback (most recent call last)",
      "Cell \u001b[0;32mIn[4], line 1\u001b[0m\n\u001b[0;32m----> 1\u001b[0m \u001b[43mdf\u001b[49m\u001b[38;5;241m.\u001b[39mdescribe()\n",
      "\u001b[0;31mNameError\u001b[0m: name 'df' is not defined"
     ]
    }
   ],
   "source": [
    "df.describe()"
   ]
  },
  {
   "cell_type": "code",
   "execution_count": 5,
   "metadata": {},
   "outputs": [
    {
     "ename": "NameError",
     "evalue": "name 'df' is not defined",
     "output_type": "error",
     "traceback": [
      "\u001b[0;31m---------------------------------------------------------------------------\u001b[0m",
      "\u001b[0;31mNameError\u001b[0m                                 Traceback (most recent call last)",
      "Cell \u001b[0;32mIn[5], line 1\u001b[0m\n\u001b[0;32m----> 1\u001b[0m \u001b[43mdf\u001b[49m\u001b[38;5;241m.\u001b[39mvalue_counts()\n",
      "\u001b[0;31mNameError\u001b[0m: name 'df' is not defined"
     ]
    }
   ],
   "source": [
    "df.value_counts()"
   ]
  },
  {
   "cell_type": "code",
   "execution_count": 6,
   "metadata": {},
   "outputs": [
    {
     "ename": "NameError",
     "evalue": "name 'df' is not defined",
     "output_type": "error",
     "traceback": [
      "\u001b[0;31m---------------------------------------------------------------------------\u001b[0m",
      "\u001b[0;31mNameError\u001b[0m                                 Traceback (most recent call last)",
      "Cell \u001b[0;32mIn[6], line 2\u001b[0m\n\u001b[1;32m      1\u001b[0m \u001b[38;5;66;03m# Plot the data\u001b[39;00m\n\u001b[0;32m----> 2\u001b[0m \u001b[43mdf\u001b[49m\u001b[38;5;241m.\u001b[39mhist(bins \u001b[38;5;241m=\u001b[39m \u001b[38;5;241m50\u001b[39m, figsize \u001b[38;5;241m=\u001b[39m (\u001b[38;5;241m20\u001b[39m,\u001b[38;5;241m15\u001b[39m))\n\u001b[1;32m      3\u001b[0m plt\u001b[38;5;241m.\u001b[39mshow()\n",
      "\u001b[0;31mNameError\u001b[0m: name 'df' is not defined"
     ]
    }
   ],
   "source": [
    "# Plot the data\n",
    "df.hist(bins = 50, figsize = (20,15))\n",
    "plt.show()"
   ]
  },
  {
   "cell_type": "code",
   "execution_count": 308,
   "metadata": {},
   "outputs": [
    {
     "data": {
      "text/plain": [
       "director_name                104\n",
       "num_critic_for_reviews        50\n",
       "duration                      15\n",
       "director_facebook_likes      104\n",
       "actor_3_facebook_likes        23\n",
       "actor_2_name                  13\n",
       "actor_1_facebook_likes         7\n",
       "gross                        884\n",
       "genres                         0\n",
       "actor_1_name                   7\n",
       "movie_title                    0\n",
       "num_voted_users                0\n",
       "cast_total_facebook_likes      0\n",
       "actor_3_name                  23\n",
       "facenumber_in_poster          13\n",
       "plot_keywords                153\n",
       "movie_imdb_link                0\n",
       "num_user_for_reviews          21\n",
       "language                      12\n",
       "country                        5\n",
       "content_rating               303\n",
       "budget                       492\n",
       "title_year                   108\n",
       "actor_2_facebook_likes        13\n",
       "imdb_score                     0\n",
       "aspect_ratio                 329\n",
       "movie_facebook_likes           0\n",
       "dtype: int64"
      ]
     },
     "execution_count": 308,
     "metadata": {},
     "output_type": "execute_result"
    }
   ],
   "source": [
    "# Check the missing values\n",
    "df.isna().sum()"
   ]
  },
  {
   "cell_type": "code",
   "execution_count": 309,
   "metadata": {},
   "outputs": [
    {
     "data": {
      "text/plain": [
       "Index(['director_name', 'num_critic_for_reviews', 'duration',\n",
       "       'director_facebook_likes', 'actor_3_facebook_likes', 'actor_2_name',\n",
       "       'actor_1_facebook_likes', 'gross', 'genres', 'actor_1_name',\n",
       "       'movie_title', 'num_voted_users', 'cast_total_facebook_likes',\n",
       "       'actor_3_name', 'facenumber_in_poster', 'plot_keywords',\n",
       "       'movie_imdb_link', 'num_user_for_reviews', 'language', 'country',\n",
       "       'content_rating', 'budget', 'title_year', 'actor_2_facebook_likes',\n",
       "       'imdb_score', 'aspect_ratio', 'movie_facebook_likes'],\n",
       "      dtype='object')"
      ]
     },
     "execution_count": 309,
     "metadata": {},
     "output_type": "execute_result"
    }
   ],
   "source": [
    "df.columns"
   ]
  },
  {
   "cell_type": "code",
   "execution_count": 310,
   "metadata": {},
   "outputs": [
    {
     "data": {
      "text/html": [
       "<div>\n",
       "<style scoped>\n",
       "    .dataframe tbody tr th:only-of-type {\n",
       "        vertical-align: middle;\n",
       "    }\n",
       "\n",
       "    .dataframe tbody tr th {\n",
       "        vertical-align: top;\n",
       "    }\n",
       "\n",
       "    .dataframe thead th {\n",
       "        text-align: right;\n",
       "    }\n",
       "</style>\n",
       "<table border=\"1\" class=\"dataframe\">\n",
       "  <thead>\n",
       "    <tr style=\"text-align: right;\">\n",
       "      <th></th>\n",
       "      <th>num_critic_for_reviews</th>\n",
       "      <th>duration</th>\n",
       "      <th>director_facebook_likes</th>\n",
       "      <th>actor_1_facebook_likes</th>\n",
       "      <th>actor_2_facebook_likes</th>\n",
       "      <th>actor_3_facebook_likes</th>\n",
       "      <th>gross</th>\n",
       "      <th>num_voted_users</th>\n",
       "      <th>cast_total_facebook_likes</th>\n",
       "      <th>facenumber_in_poster</th>\n",
       "      <th>num_user_for_reviews</th>\n",
       "      <th>budget</th>\n",
       "      <th>title_year</th>\n",
       "      <th>imdb_score</th>\n",
       "      <th>aspect_ratio</th>\n",
       "      <th>movie_facebook_likes</th>\n",
       "    </tr>\n",
       "  </thead>\n",
       "  <tbody>\n",
       "    <tr>\n",
       "      <th>0</th>\n",
       "      <td>723.0</td>\n",
       "      <td>178.0</td>\n",
       "      <td>0.0</td>\n",
       "      <td>1000.0</td>\n",
       "      <td>936.0</td>\n",
       "      <td>855.0</td>\n",
       "      <td>760505847.0</td>\n",
       "      <td>886204</td>\n",
       "      <td>4834</td>\n",
       "      <td>0.0</td>\n",
       "      <td>3054.0</td>\n",
       "      <td>237000000.0</td>\n",
       "      <td>2009.0</td>\n",
       "      <td>7.9</td>\n",
       "      <td>1.78</td>\n",
       "      <td>33000</td>\n",
       "    </tr>\n",
       "    <tr>\n",
       "      <th>1</th>\n",
       "      <td>302.0</td>\n",
       "      <td>169.0</td>\n",
       "      <td>563.0</td>\n",
       "      <td>40000.0</td>\n",
       "      <td>5000.0</td>\n",
       "      <td>1000.0</td>\n",
       "      <td>309404152.0</td>\n",
       "      <td>471220</td>\n",
       "      <td>48350</td>\n",
       "      <td>0.0</td>\n",
       "      <td>1238.0</td>\n",
       "      <td>300000000.0</td>\n",
       "      <td>2007.0</td>\n",
       "      <td>7.1</td>\n",
       "      <td>2.35</td>\n",
       "      <td>0</td>\n",
       "    </tr>\n",
       "    <tr>\n",
       "      <th>2</th>\n",
       "      <td>602.0</td>\n",
       "      <td>148.0</td>\n",
       "      <td>0.0</td>\n",
       "      <td>11000.0</td>\n",
       "      <td>393.0</td>\n",
       "      <td>161.0</td>\n",
       "      <td>200074175.0</td>\n",
       "      <td>275868</td>\n",
       "      <td>11700</td>\n",
       "      <td>1.0</td>\n",
       "      <td>994.0</td>\n",
       "      <td>245000000.0</td>\n",
       "      <td>2015.0</td>\n",
       "      <td>6.8</td>\n",
       "      <td>2.35</td>\n",
       "      <td>85000</td>\n",
       "    </tr>\n",
       "    <tr>\n",
       "      <th>3</th>\n",
       "      <td>813.0</td>\n",
       "      <td>164.0</td>\n",
       "      <td>22000.0</td>\n",
       "      <td>27000.0</td>\n",
       "      <td>23000.0</td>\n",
       "      <td>23000.0</td>\n",
       "      <td>448130642.0</td>\n",
       "      <td>1144337</td>\n",
       "      <td>106759</td>\n",
       "      <td>0.0</td>\n",
       "      <td>2701.0</td>\n",
       "      <td>250000000.0</td>\n",
       "      <td>2012.0</td>\n",
       "      <td>8.5</td>\n",
       "      <td>2.35</td>\n",
       "      <td>164000</td>\n",
       "    </tr>\n",
       "    <tr>\n",
       "      <th>4</th>\n",
       "      <td>NaN</td>\n",
       "      <td>NaN</td>\n",
       "      <td>131.0</td>\n",
       "      <td>131.0</td>\n",
       "      <td>12.0</td>\n",
       "      <td>NaN</td>\n",
       "      <td>NaN</td>\n",
       "      <td>8</td>\n",
       "      <td>143</td>\n",
       "      <td>0.0</td>\n",
       "      <td>NaN</td>\n",
       "      <td>NaN</td>\n",
       "      <td>NaN</td>\n",
       "      <td>7.1</td>\n",
       "      <td>NaN</td>\n",
       "      <td>0</td>\n",
       "    </tr>\n",
       "  </tbody>\n",
       "</table>\n",
       "</div>"
      ],
      "text/plain": [
       "   num_critic_for_reviews  duration  director_facebook_likes  \\\n",
       "0                   723.0     178.0                      0.0   \n",
       "1                   302.0     169.0                    563.0   \n",
       "2                   602.0     148.0                      0.0   \n",
       "3                   813.0     164.0                  22000.0   \n",
       "4                     NaN       NaN                    131.0   \n",
       "\n",
       "   actor_1_facebook_likes  actor_2_facebook_likes  actor_3_facebook_likes  \\\n",
       "0                  1000.0                   936.0                   855.0   \n",
       "1                 40000.0                  5000.0                  1000.0   \n",
       "2                 11000.0                   393.0                   161.0   \n",
       "3                 27000.0                 23000.0                 23000.0   \n",
       "4                   131.0                    12.0                     NaN   \n",
       "\n",
       "         gross  num_voted_users  cast_total_facebook_likes  \\\n",
       "0  760505847.0           886204                       4834   \n",
       "1  309404152.0           471220                      48350   \n",
       "2  200074175.0           275868                      11700   \n",
       "3  448130642.0          1144337                     106759   \n",
       "4          NaN                8                        143   \n",
       "\n",
       "   facenumber_in_poster  num_user_for_reviews       budget  title_year  \\\n",
       "0                   0.0                3054.0  237000000.0      2009.0   \n",
       "1                   0.0                1238.0  300000000.0      2007.0   \n",
       "2                   1.0                 994.0  245000000.0      2015.0   \n",
       "3                   0.0                2701.0  250000000.0      2012.0   \n",
       "4                   0.0                   NaN          NaN         NaN   \n",
       "\n",
       "   imdb_score  aspect_ratio  movie_facebook_likes  \n",
       "0         7.9          1.78                 33000  \n",
       "1         7.1          2.35                     0  \n",
       "2         6.8          2.35                 85000  \n",
       "3         8.5          2.35                164000  \n",
       "4         7.1           NaN                     0  "
      ]
     },
     "execution_count": 310,
     "metadata": {},
     "output_type": "execute_result"
    }
   ],
   "source": [
    "# Select only numeric values\n",
    "cols = ['num_critic_for_reviews', 'duration', 'director_facebook_likes', 'actor_1_facebook_likes',\n",
    "        'actor_2_facebook_likes', 'actor_3_facebook_likes', 'gross', 'num_voted_users', 'cast_total_facebook_likes',\n",
    "        'facenumber_in_poster', 'num_user_for_reviews', 'budget', 'title_year', 'imdb_score', 'aspect_ratio', 'movie_facebook_likes']\n",
    "df1 = df[cols]\n",
    "df1.head()"
   ]
  },
  {
   "cell_type": "code",
   "execution_count": 311,
   "metadata": {},
   "outputs": [
    {
     "data": {
      "text/plain": [
       "num_critic_for_reviews        50\n",
       "duration                      15\n",
       "director_facebook_likes      104\n",
       "actor_1_facebook_likes         7\n",
       "actor_2_facebook_likes        13\n",
       "actor_3_facebook_likes        23\n",
       "gross                        884\n",
       "num_voted_users                0\n",
       "cast_total_facebook_likes      0\n",
       "facenumber_in_poster          13\n",
       "num_user_for_reviews          21\n",
       "budget                       492\n",
       "title_year                   108\n",
       "imdb_score                     0\n",
       "aspect_ratio                 329\n",
       "movie_facebook_likes           0\n",
       "dtype: int64"
      ]
     },
     "execution_count": 311,
     "metadata": {},
     "output_type": "execute_result"
    }
   ],
   "source": [
    "# Check for missing values\n",
    "df1.isna().sum()"
   ]
  },
  {
   "cell_type": "markdown",
   "metadata": {},
   "source": [
    "### Clean the data"
   ]
  },
  {
   "cell_type": "code",
   "execution_count": 312,
   "metadata": {},
   "outputs": [
    {
     "data": {
      "text/html": [
       "<div>\n",
       "<style scoped>\n",
       "    .dataframe tbody tr th:only-of-type {\n",
       "        vertical-align: middle;\n",
       "    }\n",
       "\n",
       "    .dataframe tbody tr th {\n",
       "        vertical-align: top;\n",
       "    }\n",
       "\n",
       "    .dataframe thead th {\n",
       "        text-align: right;\n",
       "    }\n",
       "</style>\n",
       "<table border=\"1\" class=\"dataframe\">\n",
       "  <thead>\n",
       "    <tr style=\"text-align: right;\">\n",
       "      <th></th>\n",
       "      <th>num_critic_for_reviews</th>\n",
       "      <th>duration</th>\n",
       "      <th>director_facebook_likes</th>\n",
       "      <th>actor_1_facebook_likes</th>\n",
       "      <th>actor_2_facebook_likes</th>\n",
       "      <th>actor_3_facebook_likes</th>\n",
       "      <th>gross</th>\n",
       "      <th>num_voted_users</th>\n",
       "      <th>cast_total_facebook_likes</th>\n",
       "      <th>facenumber_in_poster</th>\n",
       "      <th>num_user_for_reviews</th>\n",
       "      <th>budget</th>\n",
       "      <th>title_year</th>\n",
       "      <th>imdb_score</th>\n",
       "      <th>aspect_ratio</th>\n",
       "      <th>movie_facebook_likes</th>\n",
       "    </tr>\n",
       "  </thead>\n",
       "  <tbody>\n",
       "    <tr>\n",
       "      <th>0</th>\n",
       "      <td>723</td>\n",
       "      <td>178</td>\n",
       "      <td>0</td>\n",
       "      <td>1000</td>\n",
       "      <td>936</td>\n",
       "      <td>855</td>\n",
       "      <td>760505847</td>\n",
       "      <td>886204</td>\n",
       "      <td>4834</td>\n",
       "      <td>0</td>\n",
       "      <td>3054</td>\n",
       "      <td>237000000</td>\n",
       "      <td>2009</td>\n",
       "      <td>7</td>\n",
       "      <td>1</td>\n",
       "      <td>33000</td>\n",
       "    </tr>\n",
       "    <tr>\n",
       "      <th>1</th>\n",
       "      <td>302</td>\n",
       "      <td>169</td>\n",
       "      <td>563</td>\n",
       "      <td>40000</td>\n",
       "      <td>5000</td>\n",
       "      <td>1000</td>\n",
       "      <td>309404152</td>\n",
       "      <td>471220</td>\n",
       "      <td>48350</td>\n",
       "      <td>0</td>\n",
       "      <td>1238</td>\n",
       "      <td>300000000</td>\n",
       "      <td>2007</td>\n",
       "      <td>7</td>\n",
       "      <td>2</td>\n",
       "      <td>0</td>\n",
       "    </tr>\n",
       "    <tr>\n",
       "      <th>2</th>\n",
       "      <td>602</td>\n",
       "      <td>148</td>\n",
       "      <td>0</td>\n",
       "      <td>11000</td>\n",
       "      <td>393</td>\n",
       "      <td>161</td>\n",
       "      <td>200074175</td>\n",
       "      <td>275868</td>\n",
       "      <td>11700</td>\n",
       "      <td>1</td>\n",
       "      <td>994</td>\n",
       "      <td>245000000</td>\n",
       "      <td>2015</td>\n",
       "      <td>6</td>\n",
       "      <td>2</td>\n",
       "      <td>85000</td>\n",
       "    </tr>\n",
       "    <tr>\n",
       "      <th>3</th>\n",
       "      <td>813</td>\n",
       "      <td>164</td>\n",
       "      <td>22000</td>\n",
       "      <td>27000</td>\n",
       "      <td>23000</td>\n",
       "      <td>23000</td>\n",
       "      <td>448130642</td>\n",
       "      <td>1144337</td>\n",
       "      <td>106759</td>\n",
       "      <td>0</td>\n",
       "      <td>2701</td>\n",
       "      <td>250000000</td>\n",
       "      <td>2012</td>\n",
       "      <td>8</td>\n",
       "      <td>2</td>\n",
       "      <td>164000</td>\n",
       "    </tr>\n",
       "    <tr>\n",
       "      <th>4</th>\n",
       "      <td>140</td>\n",
       "      <td>107</td>\n",
       "      <td>131</td>\n",
       "      <td>131</td>\n",
       "      <td>12</td>\n",
       "      <td>645</td>\n",
       "      <td>48468407</td>\n",
       "      <td>8</td>\n",
       "      <td>143</td>\n",
       "      <td>0</td>\n",
       "      <td>272</td>\n",
       "      <td>39752620</td>\n",
       "      <td>2002</td>\n",
       "      <td>7</td>\n",
       "      <td>2</td>\n",
       "      <td>0</td>\n",
       "    </tr>\n",
       "  </tbody>\n",
       "</table>\n",
       "</div>"
      ],
      "text/plain": [
       "   num_critic_for_reviews  duration  director_facebook_likes  \\\n",
       "0                     723       178                        0   \n",
       "1                     302       169                      563   \n",
       "2                     602       148                        0   \n",
       "3                     813       164                    22000   \n",
       "4                     140       107                      131   \n",
       "\n",
       "   actor_1_facebook_likes  actor_2_facebook_likes  actor_3_facebook_likes  \\\n",
       "0                    1000                     936                     855   \n",
       "1                   40000                    5000                    1000   \n",
       "2                   11000                     393                     161   \n",
       "3                   27000                   23000                   23000   \n",
       "4                     131                      12                     645   \n",
       "\n",
       "       gross  num_voted_users  cast_total_facebook_likes  \\\n",
       "0  760505847           886204                       4834   \n",
       "1  309404152           471220                      48350   \n",
       "2  200074175           275868                      11700   \n",
       "3  448130642          1144337                     106759   \n",
       "4   48468407                8                        143   \n",
       "\n",
       "   facenumber_in_poster  num_user_for_reviews     budget  title_year  \\\n",
       "0                     0                  3054  237000000        2009   \n",
       "1                     0                  1238  300000000        2007   \n",
       "2                     1                   994  245000000        2015   \n",
       "3                     0                  2701  250000000        2012   \n",
       "4                     0                   272   39752620        2002   \n",
       "\n",
       "   imdb_score  aspect_ratio  movie_facebook_likes  \n",
       "0           7             1                 33000  \n",
       "1           7             2                     0  \n",
       "2           6             2                 85000  \n",
       "3           8             2                164000  \n",
       "4           7             2                     0  "
      ]
     },
     "execution_count": 312,
     "metadata": {},
     "output_type": "execute_result"
    }
   ],
   "source": [
    "# Fill in the missing values with mean of the columns\n",
    "df1 = df1.fillna(df1.mean().round(2))\n",
    "df1 = df1.astype('int64')\n",
    "df1.head()"
   ]
  },
  {
   "cell_type": "code",
   "execution_count": 313,
   "metadata": {},
   "outputs": [
    {
     "data": {
      "text/plain": [
       "num_critic_for_reviews       0\n",
       "duration                     0\n",
       "director_facebook_likes      0\n",
       "actor_1_facebook_likes       0\n",
       "actor_2_facebook_likes       0\n",
       "actor_3_facebook_likes       0\n",
       "gross                        0\n",
       "num_voted_users              0\n",
       "cast_total_facebook_likes    0\n",
       "facenumber_in_poster         0\n",
       "num_user_for_reviews         0\n",
       "budget                       0\n",
       "title_year                   0\n",
       "imdb_score                   0\n",
       "aspect_ratio                 0\n",
       "movie_facebook_likes         0\n",
       "dtype: int64"
      ]
     },
     "execution_count": 313,
     "metadata": {},
     "output_type": "execute_result"
    }
   ],
   "source": [
    "# Check again if there is any missing value\n",
    "df1.isna().sum()"
   ]
  },
  {
   "cell_type": "markdown",
   "metadata": {},
   "source": [
    "### Preprocess Data:"
   ]
  },
  {
   "cell_type": "code",
   "execution_count": 314,
   "metadata": {},
   "outputs": [
    {
     "data": {
      "text/html": [
       "<div>\n",
       "<style scoped>\n",
       "    .dataframe tbody tr th:only-of-type {\n",
       "        vertical-align: middle;\n",
       "    }\n",
       "\n",
       "    .dataframe tbody tr th {\n",
       "        vertical-align: top;\n",
       "    }\n",
       "\n",
       "    .dataframe thead th {\n",
       "        text-align: right;\n",
       "    }\n",
       "</style>\n",
       "<table border=\"1\" class=\"dataframe\">\n",
       "  <thead>\n",
       "    <tr style=\"text-align: right;\">\n",
       "      <th></th>\n",
       "      <th>num_critic_for_reviews</th>\n",
       "      <th>duration</th>\n",
       "      <th>director_facebook_likes</th>\n",
       "      <th>actor_1_facebook_likes</th>\n",
       "      <th>actor_2_facebook_likes</th>\n",
       "      <th>actor_3_facebook_likes</th>\n",
       "      <th>gross</th>\n",
       "      <th>num_voted_users</th>\n",
       "      <th>cast_total_facebook_likes</th>\n",
       "      <th>facenumber_in_poster</th>\n",
       "      <th>num_user_for_reviews</th>\n",
       "      <th>budget</th>\n",
       "      <th>title_year</th>\n",
       "      <th>imdb_score</th>\n",
       "      <th>aspect_ratio</th>\n",
       "      <th>movie_facebook_likes</th>\n",
       "    </tr>\n",
       "  </thead>\n",
       "  <tbody>\n",
       "    <tr>\n",
       "      <th>num_critic_for_reviews</th>\n",
       "      <td>1.000</td>\n",
       "      <td>0.255</td>\n",
       "      <td>0.179</td>\n",
       "      <td>0.190</td>\n",
       "      <td>0.282</td>\n",
       "      <td>0.271</td>\n",
       "      <td>0.442</td>\n",
       "      <td>0.624</td>\n",
       "      <td>0.263</td>\n",
       "      <td>-0.034</td>\n",
       "      <td>0.609</td>\n",
       "      <td>0.116</td>\n",
       "      <td>0.273</td>\n",
       "      <td>0.294</td>\n",
       "      <td>-0.031</td>\n",
       "      <td>0.683</td>\n",
       "    </tr>\n",
       "    <tr>\n",
       "      <th>duration</th>\n",
       "      <td>0.255</td>\n",
       "      <td>1.000</td>\n",
       "      <td>0.154</td>\n",
       "      <td>0.088</td>\n",
       "      <td>0.131</td>\n",
       "      <td>0.123</td>\n",
       "      <td>0.205</td>\n",
       "      <td>0.315</td>\n",
       "      <td>0.123</td>\n",
       "      <td>0.013</td>\n",
       "      <td>0.326</td>\n",
       "      <td>0.064</td>\n",
       "      <td>-0.118</td>\n",
       "      <td>0.255</td>\n",
       "      <td>-0.066</td>\n",
       "      <td>0.197</td>\n",
       "    </tr>\n",
       "    <tr>\n",
       "      <th>director_facebook_likes</th>\n",
       "      <td>0.179</td>\n",
       "      <td>0.154</td>\n",
       "      <td>1.000</td>\n",
       "      <td>0.091</td>\n",
       "      <td>0.119</td>\n",
       "      <td>0.120</td>\n",
       "      <td>0.139</td>\n",
       "      <td>0.296</td>\n",
       "      <td>0.119</td>\n",
       "      <td>-0.041</td>\n",
       "      <td>0.221</td>\n",
       "      <td>0.021</td>\n",
       "      <td>-0.064</td>\n",
       "      <td>0.160</td>\n",
       "      <td>0.003</td>\n",
       "      <td>0.161</td>\n",
       "    </tr>\n",
       "    <tr>\n",
       "      <th>actor_1_facebook_likes</th>\n",
       "      <td>0.190</td>\n",
       "      <td>0.088</td>\n",
       "      <td>0.091</td>\n",
       "      <td>1.000</td>\n",
       "      <td>0.390</td>\n",
       "      <td>0.250</td>\n",
       "      <td>0.141</td>\n",
       "      <td>0.193</td>\n",
       "      <td>0.951</td>\n",
       "      <td>0.072</td>\n",
       "      <td>0.145</td>\n",
       "      <td>0.022</td>\n",
       "      <td>0.087</td>\n",
       "      <td>0.073</td>\n",
       "      <td>-0.013</td>\n",
       "      <td>0.135</td>\n",
       "    </tr>\n",
       "    <tr>\n",
       "      <th>actor_2_facebook_likes</th>\n",
       "      <td>0.282</td>\n",
       "      <td>0.131</td>\n",
       "      <td>0.119</td>\n",
       "      <td>0.390</td>\n",
       "      <td>1.000</td>\n",
       "      <td>0.560</td>\n",
       "      <td>0.258</td>\n",
       "      <td>0.271</td>\n",
       "      <td>0.628</td>\n",
       "      <td>0.071</td>\n",
       "      <td>0.219</td>\n",
       "      <td>0.044</td>\n",
       "      <td>0.102</td>\n",
       "      <td>0.081</td>\n",
       "      <td>-0.003</td>\n",
       "      <td>0.243</td>\n",
       "    </tr>\n",
       "    <tr>\n",
       "      <th>actor_3_facebook_likes</th>\n",
       "      <td>0.271</td>\n",
       "      <td>0.123</td>\n",
       "      <td>0.120</td>\n",
       "      <td>0.250</td>\n",
       "      <td>0.560</td>\n",
       "      <td>1.000</td>\n",
       "      <td>0.304</td>\n",
       "      <td>0.287</td>\n",
       "      <td>0.474</td>\n",
       "      <td>0.099</td>\n",
       "      <td>0.230</td>\n",
       "      <td>0.047</td>\n",
       "      <td>0.096</td>\n",
       "      <td>0.053</td>\n",
       "      <td>-0.001</td>\n",
       "      <td>0.279</td>\n",
       "    </tr>\n",
       "    <tr>\n",
       "      <th>gross</th>\n",
       "      <td>0.442</td>\n",
       "      <td>0.205</td>\n",
       "      <td>0.139</td>\n",
       "      <td>0.141</td>\n",
       "      <td>0.258</td>\n",
       "      <td>0.304</td>\n",
       "      <td>1.000</td>\n",
       "      <td>0.615</td>\n",
       "      <td>0.229</td>\n",
       "      <td>-0.026</td>\n",
       "      <td>0.538</td>\n",
       "      <td>0.101</td>\n",
       "      <td>0.023</td>\n",
       "      <td>0.161</td>\n",
       "      <td>0.025</td>\n",
       "      <td>0.369</td>\n",
       "    </tr>\n",
       "    <tr>\n",
       "      <th>num_voted_users</th>\n",
       "      <td>0.624</td>\n",
       "      <td>0.315</td>\n",
       "      <td>0.296</td>\n",
       "      <td>0.193</td>\n",
       "      <td>0.271</td>\n",
       "      <td>0.287</td>\n",
       "      <td>0.615</td>\n",
       "      <td>1.000</td>\n",
       "      <td>0.266</td>\n",
       "      <td>-0.027</td>\n",
       "      <td>0.798</td>\n",
       "      <td>0.078</td>\n",
       "      <td>0.008</td>\n",
       "      <td>0.397</td>\n",
       "      <td>-0.006</td>\n",
       "      <td>0.538</td>\n",
       "    </tr>\n",
       "    <tr>\n",
       "      <th>cast_total_facebook_likes</th>\n",
       "      <td>0.263</td>\n",
       "      <td>0.123</td>\n",
       "      <td>0.119</td>\n",
       "      <td>0.951</td>\n",
       "      <td>0.628</td>\n",
       "      <td>0.474</td>\n",
       "      <td>0.229</td>\n",
       "      <td>0.266</td>\n",
       "      <td>1.000</td>\n",
       "      <td>0.092</td>\n",
       "      <td>0.207</td>\n",
       "      <td>0.036</td>\n",
       "      <td>0.110</td>\n",
       "      <td>0.083</td>\n",
       "      <td>-0.011</td>\n",
       "      <td>0.210</td>\n",
       "    </tr>\n",
       "    <tr>\n",
       "      <th>facenumber_in_poster</th>\n",
       "      <td>-0.034</td>\n",
       "      <td>0.013</td>\n",
       "      <td>-0.041</td>\n",
       "      <td>0.072</td>\n",
       "      <td>0.071</td>\n",
       "      <td>0.099</td>\n",
       "      <td>-0.026</td>\n",
       "      <td>-0.027</td>\n",
       "      <td>0.092</td>\n",
       "      <td>1.000</td>\n",
       "      <td>-0.069</td>\n",
       "      <td>-0.019</td>\n",
       "      <td>0.060</td>\n",
       "      <td>-0.070</td>\n",
       "      <td>0.015</td>\n",
       "      <td>0.009</td>\n",
       "    </tr>\n",
       "    <tr>\n",
       "      <th>num_user_for_reviews</th>\n",
       "      <td>0.609</td>\n",
       "      <td>0.326</td>\n",
       "      <td>0.221</td>\n",
       "      <td>0.145</td>\n",
       "      <td>0.219</td>\n",
       "      <td>0.230</td>\n",
       "      <td>0.538</td>\n",
       "      <td>0.798</td>\n",
       "      <td>0.207</td>\n",
       "      <td>-0.069</td>\n",
       "      <td>1.000</td>\n",
       "      <td>0.083</td>\n",
       "      <td>-0.003</td>\n",
       "      <td>0.279</td>\n",
       "      <td>-0.014</td>\n",
       "      <td>0.400</td>\n",
       "    </tr>\n",
       "    <tr>\n",
       "      <th>budget</th>\n",
       "      <td>0.116</td>\n",
       "      <td>0.064</td>\n",
       "      <td>0.021</td>\n",
       "      <td>0.022</td>\n",
       "      <td>0.044</td>\n",
       "      <td>0.047</td>\n",
       "      <td>0.101</td>\n",
       "      <td>0.078</td>\n",
       "      <td>0.036</td>\n",
       "      <td>-0.019</td>\n",
       "      <td>0.083</td>\n",
       "      <td>1.000</td>\n",
       "      <td>0.044</td>\n",
       "      <td>0.033</td>\n",
       "      <td>0.005</td>\n",
       "      <td>0.061</td>\n",
       "    </tr>\n",
       "    <tr>\n",
       "      <th>title_year</th>\n",
       "      <td>0.273</td>\n",
       "      <td>-0.118</td>\n",
       "      <td>-0.064</td>\n",
       "      <td>0.087</td>\n",
       "      <td>0.102</td>\n",
       "      <td>0.096</td>\n",
       "      <td>0.023</td>\n",
       "      <td>0.008</td>\n",
       "      <td>0.110</td>\n",
       "      <td>0.060</td>\n",
       "      <td>-0.003</td>\n",
       "      <td>0.044</td>\n",
       "      <td>1.000</td>\n",
       "      <td>-0.199</td>\n",
       "      <td>0.100</td>\n",
       "      <td>0.218</td>\n",
       "    </tr>\n",
       "    <tr>\n",
       "      <th>imdb_score</th>\n",
       "      <td>0.294</td>\n",
       "      <td>0.255</td>\n",
       "      <td>0.160</td>\n",
       "      <td>0.073</td>\n",
       "      <td>0.081</td>\n",
       "      <td>0.053</td>\n",
       "      <td>0.161</td>\n",
       "      <td>0.397</td>\n",
       "      <td>0.083</td>\n",
       "      <td>-0.070</td>\n",
       "      <td>0.279</td>\n",
       "      <td>0.033</td>\n",
       "      <td>-0.199</td>\n",
       "      <td>1.000</td>\n",
       "      <td>0.051</td>\n",
       "      <td>0.242</td>\n",
       "    </tr>\n",
       "    <tr>\n",
       "      <th>aspect_ratio</th>\n",
       "      <td>-0.031</td>\n",
       "      <td>-0.066</td>\n",
       "      <td>0.003</td>\n",
       "      <td>-0.013</td>\n",
       "      <td>-0.003</td>\n",
       "      <td>-0.001</td>\n",
       "      <td>0.025</td>\n",
       "      <td>-0.006</td>\n",
       "      <td>-0.011</td>\n",
       "      <td>0.015</td>\n",
       "      <td>-0.014</td>\n",
       "      <td>0.005</td>\n",
       "      <td>0.100</td>\n",
       "      <td>0.051</td>\n",
       "      <td>1.000</td>\n",
       "      <td>0.038</td>\n",
       "    </tr>\n",
       "    <tr>\n",
       "      <th>movie_facebook_likes</th>\n",
       "      <td>0.683</td>\n",
       "      <td>0.197</td>\n",
       "      <td>0.161</td>\n",
       "      <td>0.135</td>\n",
       "      <td>0.243</td>\n",
       "      <td>0.279</td>\n",
       "      <td>0.369</td>\n",
       "      <td>0.538</td>\n",
       "      <td>0.210</td>\n",
       "      <td>0.009</td>\n",
       "      <td>0.400</td>\n",
       "      <td>0.061</td>\n",
       "      <td>0.218</td>\n",
       "      <td>0.242</td>\n",
       "      <td>0.038</td>\n",
       "      <td>1.000</td>\n",
       "    </tr>\n",
       "  </tbody>\n",
       "</table>\n",
       "</div>"
      ],
      "text/plain": [
       "                           num_critic_for_reviews  duration  \\\n",
       "num_critic_for_reviews                      1.000     0.255   \n",
       "duration                                    0.255     1.000   \n",
       "director_facebook_likes                     0.179     0.154   \n",
       "actor_1_facebook_likes                      0.190     0.088   \n",
       "actor_2_facebook_likes                      0.282     0.131   \n",
       "actor_3_facebook_likes                      0.271     0.123   \n",
       "gross                                       0.442     0.205   \n",
       "num_voted_users                             0.624     0.315   \n",
       "cast_total_facebook_likes                   0.263     0.123   \n",
       "facenumber_in_poster                       -0.034     0.013   \n",
       "num_user_for_reviews                        0.609     0.326   \n",
       "budget                                      0.116     0.064   \n",
       "title_year                                  0.273    -0.118   \n",
       "imdb_score                                  0.294     0.255   \n",
       "aspect_ratio                               -0.031    -0.066   \n",
       "movie_facebook_likes                        0.683     0.197   \n",
       "\n",
       "                           director_facebook_likes  actor_1_facebook_likes  \\\n",
       "num_critic_for_reviews                       0.179                   0.190   \n",
       "duration                                     0.154                   0.088   \n",
       "director_facebook_likes                      1.000                   0.091   \n",
       "actor_1_facebook_likes                       0.091                   1.000   \n",
       "actor_2_facebook_likes                       0.119                   0.390   \n",
       "actor_3_facebook_likes                       0.120                   0.250   \n",
       "gross                                        0.139                   0.141   \n",
       "num_voted_users                              0.296                   0.193   \n",
       "cast_total_facebook_likes                    0.119                   0.951   \n",
       "facenumber_in_poster                        -0.041                   0.072   \n",
       "num_user_for_reviews                         0.221                   0.145   \n",
       "budget                                       0.021                   0.022   \n",
       "title_year                                  -0.064                   0.087   \n",
       "imdb_score                                   0.160                   0.073   \n",
       "aspect_ratio                                 0.003                  -0.013   \n",
       "movie_facebook_likes                         0.161                   0.135   \n",
       "\n",
       "                           actor_2_facebook_likes  actor_3_facebook_likes  \\\n",
       "num_critic_for_reviews                      0.282                   0.271   \n",
       "duration                                    0.131                   0.123   \n",
       "director_facebook_likes                     0.119                   0.120   \n",
       "actor_1_facebook_likes                      0.390                   0.250   \n",
       "actor_2_facebook_likes                      1.000                   0.560   \n",
       "actor_3_facebook_likes                      0.560                   1.000   \n",
       "gross                                       0.258                   0.304   \n",
       "num_voted_users                             0.271                   0.287   \n",
       "cast_total_facebook_likes                   0.628                   0.474   \n",
       "facenumber_in_poster                        0.071                   0.099   \n",
       "num_user_for_reviews                        0.219                   0.230   \n",
       "budget                                      0.044                   0.047   \n",
       "title_year                                  0.102                   0.096   \n",
       "imdb_score                                  0.081                   0.053   \n",
       "aspect_ratio                               -0.003                  -0.001   \n",
       "movie_facebook_likes                        0.243                   0.279   \n",
       "\n",
       "                           gross  num_voted_users  cast_total_facebook_likes  \\\n",
       "num_critic_for_reviews     0.442            0.624                      0.263   \n",
       "duration                   0.205            0.315                      0.123   \n",
       "director_facebook_likes    0.139            0.296                      0.119   \n",
       "actor_1_facebook_likes     0.141            0.193                      0.951   \n",
       "actor_2_facebook_likes     0.258            0.271                      0.628   \n",
       "actor_3_facebook_likes     0.304            0.287                      0.474   \n",
       "gross                      1.000            0.615                      0.229   \n",
       "num_voted_users            0.615            1.000                      0.266   \n",
       "cast_total_facebook_likes  0.229            0.266                      1.000   \n",
       "facenumber_in_poster      -0.026           -0.027                      0.092   \n",
       "num_user_for_reviews       0.538            0.798                      0.207   \n",
       "budget                     0.101            0.078                      0.036   \n",
       "title_year                 0.023            0.008                      0.110   \n",
       "imdb_score                 0.161            0.397                      0.083   \n",
       "aspect_ratio               0.025           -0.006                     -0.011   \n",
       "movie_facebook_likes       0.369            0.538                      0.210   \n",
       "\n",
       "                           facenumber_in_poster  num_user_for_reviews  budget  \\\n",
       "num_critic_for_reviews                   -0.034                 0.609   0.116   \n",
       "duration                                  0.013                 0.326   0.064   \n",
       "director_facebook_likes                  -0.041                 0.221   0.021   \n",
       "actor_1_facebook_likes                    0.072                 0.145   0.022   \n",
       "actor_2_facebook_likes                    0.071                 0.219   0.044   \n",
       "actor_3_facebook_likes                    0.099                 0.230   0.047   \n",
       "gross                                    -0.026                 0.538   0.101   \n",
       "num_voted_users                          -0.027                 0.798   0.078   \n",
       "cast_total_facebook_likes                 0.092                 0.207   0.036   \n",
       "facenumber_in_poster                      1.000                -0.069  -0.019   \n",
       "num_user_for_reviews                     -0.069                 1.000   0.083   \n",
       "budget                                   -0.019                 0.083   1.000   \n",
       "title_year                                0.060                -0.003   0.044   \n",
       "imdb_score                               -0.070                 0.279   0.033   \n",
       "aspect_ratio                              0.015                -0.014   0.005   \n",
       "movie_facebook_likes                      0.009                 0.400   0.061   \n",
       "\n",
       "                           title_year  imdb_score  aspect_ratio  \\\n",
       "num_critic_for_reviews          0.273       0.294        -0.031   \n",
       "duration                       -0.118       0.255        -0.066   \n",
       "director_facebook_likes        -0.064       0.160         0.003   \n",
       "actor_1_facebook_likes          0.087       0.073        -0.013   \n",
       "actor_2_facebook_likes          0.102       0.081        -0.003   \n",
       "actor_3_facebook_likes          0.096       0.053        -0.001   \n",
       "gross                           0.023       0.161         0.025   \n",
       "num_voted_users                 0.008       0.397        -0.006   \n",
       "cast_total_facebook_likes       0.110       0.083        -0.011   \n",
       "facenumber_in_poster            0.060      -0.070         0.015   \n",
       "num_user_for_reviews           -0.003       0.279        -0.014   \n",
       "budget                          0.044       0.033         0.005   \n",
       "title_year                      1.000      -0.199         0.100   \n",
       "imdb_score                     -0.199       1.000         0.051   \n",
       "aspect_ratio                    0.100       0.051         1.000   \n",
       "movie_facebook_likes            0.218       0.242         0.038   \n",
       "\n",
       "                           movie_facebook_likes  \n",
       "num_critic_for_reviews                    0.683  \n",
       "duration                                  0.197  \n",
       "director_facebook_likes                   0.161  \n",
       "actor_1_facebook_likes                    0.135  \n",
       "actor_2_facebook_likes                    0.243  \n",
       "actor_3_facebook_likes                    0.279  \n",
       "gross                                     0.369  \n",
       "num_voted_users                           0.538  \n",
       "cast_total_facebook_likes                 0.210  \n",
       "facenumber_in_poster                      0.009  \n",
       "num_user_for_reviews                      0.400  \n",
       "budget                                    0.061  \n",
       "title_year                                0.218  \n",
       "imdb_score                                0.242  \n",
       "aspect_ratio                              0.038  \n",
       "movie_facebook_likes                      1.000  "
      ]
     },
     "execution_count": 314,
     "metadata": {},
     "output_type": "execute_result"
    }
   ],
   "source": [
    "df1.corr().round(3)"
   ]
  },
  {
   "cell_type": "code",
   "execution_count": 315,
   "metadata": {},
   "outputs": [
    {
     "data": {
      "text/html": [
       "<div>\n",
       "<style scoped>\n",
       "    .dataframe tbody tr th:only-of-type {\n",
       "        vertical-align: middle;\n",
       "    }\n",
       "\n",
       "    .dataframe tbody tr th {\n",
       "        vertical-align: top;\n",
       "    }\n",
       "\n",
       "    .dataframe thead th {\n",
       "        text-align: right;\n",
       "    }\n",
       "</style>\n",
       "<table border=\"1\" class=\"dataframe\">\n",
       "  <thead>\n",
       "    <tr style=\"text-align: right;\">\n",
       "      <th></th>\n",
       "      <th>num_critic_for_reviews</th>\n",
       "      <th>num_voted_users</th>\n",
       "      <th>num_user_for_reviews</th>\n",
       "      <th>movie_facebook_likes</th>\n",
       "    </tr>\n",
       "  </thead>\n",
       "  <tbody>\n",
       "    <tr>\n",
       "      <th>num_critic_for_reviews</th>\n",
       "      <td>1.000000</td>\n",
       "      <td>0.623814</td>\n",
       "      <td>0.608515</td>\n",
       "      <td>0.682675</td>\n",
       "    </tr>\n",
       "    <tr>\n",
       "      <th>num_voted_users</th>\n",
       "      <td>0.623814</td>\n",
       "      <td>1.000000</td>\n",
       "      <td>0.797803</td>\n",
       "      <td>0.537924</td>\n",
       "    </tr>\n",
       "    <tr>\n",
       "      <th>num_user_for_reviews</th>\n",
       "      <td>0.608515</td>\n",
       "      <td>0.797803</td>\n",
       "      <td>1.000000</td>\n",
       "      <td>0.400472</td>\n",
       "    </tr>\n",
       "    <tr>\n",
       "      <th>movie_facebook_likes</th>\n",
       "      <td>0.682675</td>\n",
       "      <td>0.537924</td>\n",
       "      <td>0.400472</td>\n",
       "      <td>1.000000</td>\n",
       "    </tr>\n",
       "  </tbody>\n",
       "</table>\n",
       "</div>"
      ],
      "text/plain": [
       "                        num_critic_for_reviews  num_voted_users  \\\n",
       "num_critic_for_reviews                1.000000         0.623814   \n",
       "num_voted_users                       0.623814         1.000000   \n",
       "num_user_for_reviews                  0.608515         0.797803   \n",
       "movie_facebook_likes                  0.682675         0.537924   \n",
       "\n",
       "                        num_user_for_reviews  movie_facebook_likes  \n",
       "num_critic_for_reviews              0.608515              0.682675  \n",
       "num_voted_users                     0.797803              0.537924  \n",
       "num_user_for_reviews                1.000000              0.400472  \n",
       "movie_facebook_likes                0.400472              1.000000  "
      ]
     },
     "execution_count": 315,
     "metadata": {},
     "output_type": "execute_result"
    }
   ],
   "source": [
    "# Select the columns that has strong correlation with Y (num_critic_for_reviews)\n",
    "mycols = ['num_critic_for_reviews', 'num_voted_users', 'num_user_for_reviews', 'movie_facebook_likes']\n",
    "df1[mycols].corr()"
   ]
  },
  {
   "cell_type": "code",
   "execution_count": 316,
   "metadata": {},
   "outputs": [
    {
     "data": {
      "text/html": [
       "<div>\n",
       "<style scoped>\n",
       "    .dataframe tbody tr th:only-of-type {\n",
       "        vertical-align: middle;\n",
       "    }\n",
       "\n",
       "    .dataframe tbody tr th {\n",
       "        vertical-align: top;\n",
       "    }\n",
       "\n",
       "    .dataframe thead th {\n",
       "        text-align: right;\n",
       "    }\n",
       "</style>\n",
       "<table border=\"1\" class=\"dataframe\">\n",
       "  <thead>\n",
       "    <tr style=\"text-align: right;\">\n",
       "      <th></th>\n",
       "      <th>num_critic_for_reviews</th>\n",
       "      <th>num_user_for_reviews</th>\n",
       "      <th>movie_facebook_likes</th>\n",
       "    </tr>\n",
       "  </thead>\n",
       "  <tbody>\n",
       "    <tr>\n",
       "      <th>num_critic_for_reviews</th>\n",
       "      <td>1.000000</td>\n",
       "      <td>0.608515</td>\n",
       "      <td>0.682675</td>\n",
       "    </tr>\n",
       "    <tr>\n",
       "      <th>num_user_for_reviews</th>\n",
       "      <td>0.608515</td>\n",
       "      <td>1.000000</td>\n",
       "      <td>0.400472</td>\n",
       "    </tr>\n",
       "    <tr>\n",
       "      <th>movie_facebook_likes</th>\n",
       "      <td>0.682675</td>\n",
       "      <td>0.400472</td>\n",
       "      <td>1.000000</td>\n",
       "    </tr>\n",
       "  </tbody>\n",
       "</table>\n",
       "</div>"
      ],
      "text/plain": [
       "                        num_critic_for_reviews  num_user_for_reviews  \\\n",
       "num_critic_for_reviews                1.000000              0.608515   \n",
       "num_user_for_reviews                  0.608515              1.000000   \n",
       "movie_facebook_likes                  0.682675              0.400472   \n",
       "\n",
       "                        movie_facebook_likes  \n",
       "num_critic_for_reviews              0.682675  \n",
       "num_user_for_reviews                0.400472  \n",
       "movie_facebook_likes                1.000000  "
      ]
     },
     "execution_count": 316,
     "metadata": {},
     "output_type": "execute_result"
    }
   ],
   "source": [
    "# Select columns that has low correlations among Xs\n",
    "mycols = ['num_critic_for_reviews', 'num_user_for_reviews', 'movie_facebook_likes']\n",
    "df1[mycols].corr()"
   ]
  },
  {
   "cell_type": "code",
   "execution_count": 317,
   "metadata": {},
   "outputs": [
    {
     "data": {
      "text/plain": [
       "<seaborn.axisgrid.PairGrid at 0x1dfa9f805d0>"
      ]
     },
     "execution_count": 317,
     "metadata": {},
     "output_type": "execute_result"
    },
    {
     "data": {
      "image/png": "[encoded data removed]",
      "text/plain": [
       "<Figure size 750x750 with 12 Axes>"
      ]
     },
     "metadata": {},
     "output_type": "display_data"
    }
   ],
   "source": [
    "# Check with plots\n",
    "sns.pairplot(df1[mycols])"
   ]
  },
  {
   "cell_type": "code",
   "execution_count": 318,
   "metadata": {},
   "outputs": [],
   "source": [
    "# Split train-test\n",
    "train,test = train_test_split(df1, test_size=0.3, random_state=99, shuffle=True)"
   ]
  },
  {
   "cell_type": "code",
   "execution_count": 319,
   "metadata": {},
   "outputs": [
    {
     "data": {
      "text/html": [
       "<div>\n",
       "<style scoped>\n",
       "    .dataframe tbody tr th:only-of-type {\n",
       "        vertical-align: middle;\n",
       "    }\n",
       "\n",
       "    .dataframe tbody tr th {\n",
       "        vertical-align: top;\n",
       "    }\n",
       "\n",
       "    .dataframe thead th {\n",
       "        text-align: right;\n",
       "    }\n",
       "</style>\n",
       "<table border=\"1\" class=\"dataframe\">\n",
       "  <thead>\n",
       "    <tr style=\"text-align: right;\">\n",
       "      <th></th>\n",
       "      <th>num_critic_for_reviews</th>\n",
       "      <th>num_user_for_reviews</th>\n",
       "      <th>movie_facebook_likes</th>\n",
       "    </tr>\n",
       "  </thead>\n",
       "  <tbody>\n",
       "    <tr>\n",
       "      <th>num_critic_for_reviews</th>\n",
       "      <td>1.000000</td>\n",
       "      <td>0.600374</td>\n",
       "      <td>0.693537</td>\n",
       "    </tr>\n",
       "    <tr>\n",
       "      <th>num_user_for_reviews</th>\n",
       "      <td>0.600374</td>\n",
       "      <td>1.000000</td>\n",
       "      <td>0.395003</td>\n",
       "    </tr>\n",
       "    <tr>\n",
       "      <th>movie_facebook_likes</th>\n",
       "      <td>0.693537</td>\n",
       "      <td>0.395003</td>\n",
       "      <td>1.000000</td>\n",
       "    </tr>\n",
       "  </tbody>\n",
       "</table>\n",
       "</div>"
      ],
      "text/plain": [
       "                        num_critic_for_reviews  num_user_for_reviews  \\\n",
       "num_critic_for_reviews                1.000000              0.600374   \n",
       "num_user_for_reviews                  0.600374              1.000000   \n",
       "movie_facebook_likes                  0.693537              0.395003   \n",
       "\n",
       "                        movie_facebook_likes  \n",
       "num_critic_for_reviews              0.693537  \n",
       "num_user_for_reviews                0.395003  \n",
       "movie_facebook_likes                1.000000  "
      ]
     },
     "execution_count": 319,
     "metadata": {},
     "output_type": "execute_result"
    }
   ],
   "source": [
    "train[mycols].corr()"
   ]
  },
  {
   "cell_type": "markdown",
   "metadata": {},
   "source": [
    "### Train:"
   ]
  },
  {
   "cell_type": "code",
   "execution_count": 320,
   "metadata": {},
   "outputs": [
    {
     "data": {
      "text/html": [
       "<style>#sk-container-id-5 {color: black;background-color: white;}#sk-container-id-5 pre{padding: 0;}#sk-container-id-5 div.sk-toggleable {background-color: white;}#sk-container-id-5 label.sk-toggleable__label {cursor: pointer;display: block;width: 100%;margin-bottom: 0;padding: 0.3em;box-sizing: border-box;text-align: center;}#sk-container-id-5 label.sk-toggleable__label-arrow:before {content: \"▸\";float: left;margin-right: 0.25em;color: #696969;}#sk-container-id-5 label.sk-toggleable__label-arrow:hover:before {color: black;}#sk-container-id-5 div.sk-estimator:hover label.sk-toggleable__label-arrow:before {color: black;}#sk-container-id-5 div.sk-toggleable__content {max-height: 0;max-width: 0;overflow: hidden;text-align: left;background-color: #f0f8ff;}#sk-container-id-5 div.sk-toggleable__content pre {margin: 0.2em;color: black;border-radius: 0.25em;background-color: #f0f8ff;}#sk-container-id-5 input.sk-toggleable__control:checked~div.sk-toggleable__content {max-height: 200px;max-width: 100%;overflow: auto;}#sk-container-id-5 input.sk-toggleable__control:checked~label.sk-toggleable__label-arrow:before {content: \"▾\";}#sk-container-id-5 div.sk-estimator input.sk-toggleable__control:checked~label.sk-toggleable__label {background-color: #d4ebff;}#sk-container-id-5 div.sk-label input.sk-toggleable__control:checked~label.sk-toggleable__label {background-color: #d4ebff;}#sk-container-id-5 input.sk-hidden--visually {border: 0;clip: rect(1px 1px 1px 1px);clip: rect(1px, 1px, 1px, 1px);height: 1px;margin: -1px;overflow: hidden;padding: 0;position: absolute;width: 1px;}#sk-container-id-5 div.sk-estimator {font-family: monospace;background-color: #f0f8ff;border: 1px dotted black;border-radius: 0.25em;box-sizing: border-box;margin-bottom: 0.5em;}#sk-container-id-5 div.sk-estimator:hover {background-color: #d4ebff;}#sk-container-id-5 div.sk-parallel-item::after {content: \"\";width: 100%;border-bottom: 1px solid gray;flex-grow: 1;}#sk-container-id-5 div.sk-label:hover label.sk-toggleable__label {background-color: #d4ebff;}#sk-container-id-5 div.sk-serial::before {content: \"\";position: absolute;border-left: 1px solid gray;box-sizing: border-box;top: 0;bottom: 0;left: 50%;z-index: 0;}#sk-container-id-5 div.sk-serial {display: flex;flex-direction: column;align-items: center;background-color: white;padding-right: 0.2em;padding-left: 0.2em;position: relative;}#sk-container-id-5 div.sk-item {position: relative;z-index: 1;}#sk-container-id-5 div.sk-parallel {display: flex;align-items: stretch;justify-content: center;background-color: white;position: relative;}#sk-container-id-5 div.sk-item::before, #sk-container-id-5 div.sk-parallel-item::before {content: \"\";position: absolute;border-left: 1px solid gray;box-sizing: border-box;top: 0;bottom: 0;left: 50%;z-index: -1;}#sk-container-id-5 div.sk-parallel-item {display: flex;flex-direction: column;z-index: 1;position: relative;background-color: white;}#sk-container-id-5 div.sk-parallel-item:first-child::after {align-self: flex-end;width: 50%;}#sk-container-id-5 div.sk-parallel-item:last-child::after {align-self: flex-start;width: 50%;}#sk-container-id-5 div.sk-parallel-item:only-child::after {width: 0;}#sk-container-id-5 div.sk-dashed-wrapped {border: 1px dashed gray;margin: 0 0.4em 0.5em 0.4em;box-sizing: border-box;padding-bottom: 0.4em;background-color: white;}#sk-container-id-5 div.sk-label label {font-family: monospace;font-weight: bold;display: inline-block;line-height: 1.2em;}#sk-container-id-5 div.sk-label-container {text-align: center;}#sk-container-id-5 div.sk-container {/* jupyter's `normalize.less` sets `[hidden] { display: none; }` but bootstrap.min.css set `[hidden] { display: none !important; }` so we also need the `!important` here to be able to override the default hidden behavior on the sphinx rendered scikit-learn.org. See: https://github.com/scikit-learn/scikit-learn/issues/21755 */display: inline-block !important;position: relative;}#sk-container-id-5 div.sk-text-repr-fallback {display: none;}</style><div id=\"sk-container-id-5\" class=\"sk-top-container\"><div class=\"sk-text-repr-fallback\"><pre>LinearRegression()</pre><b>In a Jupyter environment, please rerun this cell to show the HTML representation or trust the notebook. <br />On GitHub, the HTML representation is unable to render, please try loading this page with nbviewer.org.</b></div><div class=\"sk-container\" hidden><div class=\"sk-item\"><div class=\"sk-estimator sk-toggleable\"><input class=\"sk-toggleable__control sk-hidden--visually\" id=\"sk-estimator-id-5\" type=\"checkbox\" checked><label for=\"sk-estimator-id-5\" class=\"sk-toggleable__label sk-toggleable__label-arrow\">LinearRegression</label><div class=\"sk-toggleable__content\"><pre>LinearRegression()</pre></div></div></div></div></div>"
      ],
      "text/plain": [
       "LinearRegression()"
      ]
     },
     "execution_count": 320,
     "metadata": {},
     "output_type": "execute_result"
    }
   ],
   "source": [
    "# Train the model\n",
    "x_train = train.drop('num_critic_for_reviews', axis=1)\n",
    "y_train = train['num_critic_for_reviews']\n",
    "model = LinearRegression()\n",
    "model.fit(x_train, y_train)"
   ]
  },
  {
   "cell_type": "code",
   "execution_count": 321,
   "metadata": {},
   "outputs": [
    {
     "name": "stdout",
     "output_type": "stream",
     "text": [
      "r2_score: 0.658189944268198\n"
     ]
    }
   ],
   "source": [
    "# Make a prediction\n",
    "y_train_pred = model.predict(x_train)\n",
    "print('r2_score:', r2_score(y_train, y_train_pred))"
   ]
  },
  {
   "cell_type": "markdown",
   "metadata": {},
   "source": [
    "### Test:"
   ]
  },
  {
   "cell_type": "code",
   "execution_count": 322,
   "metadata": {},
   "outputs": [],
   "source": [
    "x_test = test.drop('num_critic_for_reviews', axis=1)\n",
    "y_test = test['num_critic_for_reviews']"
   ]
  },
  {
   "cell_type": "code",
   "execution_count": 323,
   "metadata": {},
   "outputs": [],
   "source": [
    "y_test_pred = model.predict(x_test)"
   ]
  },
  {
   "cell_type": "markdown",
   "metadata": {},
   "source": [
    "### Evaluate the Result"
   ]
  },
  {
   "cell_type": "code",
   "execution_count": 324,
   "metadata": {},
   "outputs": [
    {
     "data": {
      "text/plain": [
       "Text(0, 0.5, 'y_test_pred')"
      ]
     },
     "execution_count": 324,
     "metadata": {},
     "output_type": "execute_result"
    },
    {
     "data": {
      "image/png": "[encoded data removed]",
      "text/plain": [
       "<Figure size 640x480 with 1 Axes>"
      ]
     },
     "metadata": {},
     "output_type": "display_data"
    }
   ],
   "source": [
    "plt.scatter(y_test, y_test_pred)\n",
    "plt.xlabel('y_test')\n",
    "plt.ylabel('y_test_pred')"
   ]
  },
  {
   "cell_type": "code",
   "execution_count": 325,
   "metadata": {},
   "outputs": [
    {
     "name": "stdout",
     "output_type": "stream",
     "text": [
      "r2_score: 0.6145141308523273\n",
      "mean_absolute_percentage_error: 2.5227995828897107\n",
      "mean_squared_error: 5963.724082328862\n"
     ]
    }
   ],
   "source": [
    "print('r2_score:', r2_score(y_test, y_test_pred))\n",
    "print('mean_absolute_percentage_error:', mean_absolute_percentage_error(y_test,y_test_pred))\n",
    "print('mean_squared_error:', mean_squared_error(y_test,y_test_pred))"
   ]
  },
  {
   "cell_type": "markdown",
   "metadata": {},
   "source": [
    "### Cross Validation"
   ]
  },
  {
   "cell_type": "code",
   "execution_count": 326,
   "metadata": {},
   "outputs": [],
   "source": [
    "from sklearn.model_selection import cross_val_score\n",
    "x = df1.drop('num_critic_for_reviews', axis=1)\n",
    "y = df1['num_critic_for_reviews']"
   ]
  },
  {
   "cell_type": "code",
   "execution_count": 327,
   "metadata": {},
   "outputs": [
    {
     "name": "stdout",
     "output_type": "stream",
     "text": [
      "0.64 accuracy with a standard deviation of 0.01\n"
     ]
    }
   ],
   "source": [
    "from sklearn.model_selection import ShuffleSplit\n",
    "cv = ShuffleSplit(n_splits=5, test_size=0.3)\n",
    "scores = cross_val_score(model, x, y, cv=cv, scoring='r2')\n",
    "print(\"%0.2f accuracy with a standard deviation of %0.2f\" % (scores.mean(), scores.std()))"
   ]
  }
 ],
 "metadata": {
  "kernelspec": {
   "display_name": "myenv",
   "language": "python",
   "name": "python3"
  },
  "language_info": {
   "codemirror_mode": {
    "name": "ipython",
    "version": 3
   },
   "file_extension": ".py",
   "mimetype": "text/x-python",
   "name": "python",
   "nbconvert_exporter": "python",
   "pygments_lexer": "ipython3",
   "version": "3.11.1"
  },
  "vscode": {
   "interpreter": {
    "hash": "182c1d7a0a15cec0a24162718244e6ec59e0b55dcac63fcc1fc3bc8ee7daa23e"
   }
  }
 },
 "nbformat": 4,
 "nbformat_minor": 2
}
